{
 "cells": [
  {
   "cell_type": "markdown",
   "metadata": {},
   "source": [
    "# Scrapping with BeautifulSoup "
   ]
  },
  {
   "cell_type": "markdown",
   "metadata": {},
   "source": [
    "Scrapper des données sur le Web à l'aide des librairies **BeautifulSoup** et **Requests**"
   ]
  },
  {
   "cell_type": "code",
   "execution_count": 9,
   "metadata": {
    "ExecuteTime": {
     "end_time": "2020-04-17T15:28:23.539509Z",
     "start_time": "2020-04-17T15:28:23.532789Z"
    }
   },
   "outputs": [],
   "source": [
    "import requests\n",
    "from bs4 import BeautifulSoup"
   ]
  },
  {
   "cell_type": "markdown",
   "metadata": {},
   "source": [
    "## Requests, récuprer le code d'un site web\n",
    "\n",
    "**requests** est un module python qui sert à faire des requêtes sur le web via les protocoles HTTP  \n",
    "\n",
    "Avec se module nous allons pouvoir récuperer le code HTML d'un site web via son URL"
   ]
  },
  {
   "cell_type": "markdown",
   "metadata": {},
   "source": [
    "Quelques méthodes de *`requests`*:\n",
    "\n",
    ">* *`.get('url')`* LA commande qui permet d'aller chercher via une URL le format brut HTML sous forme d'un objet \"HTTPResponse\" du module urllib3.  Possible argument *`auth=('username','password')`* si il y a besoins d'une authentification  \n",
    ">* *`.post`* permet d'envoyer des données vers le siteweb comme un *username* et un *psswd*  à travers un *`dict`*, ou même des img..\n",
    ">* *`sess = requests.Session()`*; puis  Pour effectuer plusieurs requêtes sur un site, qui permet de conserver les identification et les cookies pendant l'exécution de toutes les requêtes. L'objet *`Session`* ici *`sess`* possède toute les méthodes de `requests` dont *`.get`* par exemple."
   ]
  },
  {
   "cell_type": "markdown",
   "metadata": {},
   "source": [
    "On peut lire la réponse de *`.get`* avec:\n",
    ">* *`r.text`* Retourne le contenu en unicode\n",
    ">* *`r.content`* Retourne le contenu en bytes\n",
    ">* *`r.json`* Retourne le contenu sous forme json\n",
    ">* *`r.headers`* Retourne le headers sous forme de dictionnaire "
   ]
  },
  {
   "cell_type": "code",
   "execution_count": 15,
   "metadata": {
    "ExecuteTime": {
     "end_time": "2020-04-17T16:55:26.689387Z",
     "start_time": "2020-04-17T16:55:26.585933Z"
    }
   },
   "outputs": [],
   "source": [
    "html = requests.get('https://en.wikipedia.org/wiki/Main_Page') #auth=('username','password') si besoin"
   ]
  },
  {
   "cell_type": "code",
   "execution_count": 16,
   "metadata": {
    "ExecuteTime": {
     "end_time": "2020-04-17T16:55:44.529082Z",
     "start_time": "2020-04-17T16:55:44.526239Z"
    }
   },
   "outputs": [],
   "source": [
    "#html.headers"
   ]
  },
  {
   "cell_type": "markdown",
   "metadata": {},
   "source": [
    "## BeautifulSoup pour analyser le HTML  \n",
    "Començons par créer un Objet BeautfulSoup avec la réponse récupérée par *`.get()`* avec la méthode *`.content`* de *`requests`*, pour pouvoir ensuite utiliser toutes les méthodes d'analyse de HTML de BS.  \n",
    "On lui passe en arg *`html.parser`* pour lui signifier que c'est bien du html."
   ]
  },
  {
   "cell_type": "code",
   "execution_count": 14,
   "metadata": {
    "ExecuteTime": {
     "end_time": "2020-04-17T16:21:56.701202Z",
     "start_time": "2020-04-17T16:21:56.622121Z"
    }
   },
   "outputs": [],
   "source": [
    "soup = BeautifulSoup(html.content, \"html.parser\") "
   ]
  },
  {
   "cell_type": "markdown",
   "metadata": {},
   "source": [
    "Une fois le code HTML dans un objet BeatifuSoup on va pouvoir commencer à l'analyser avec différentes méthodes..  \n",
    "Un petit rappel sur ce que l'on peut identifier dans du HTML:\n",
    "\n",
    "- balises, attribut, valeur et le contenu .... entres autres"
   ]
  },
  {
   "cell_type": "markdown",
   "metadata": {},
   "source": [
    "voire le code HTML avec *`.prettify`*"
   ]
  },
  {
   "cell_type": "code",
   "execution_count": 264,
   "metadata": {
    "ExecuteTime": {
     "end_time": "2020-04-18T17:36:28.193296Z",
     "start_time": "2020-04-18T17:36:28.189935Z"
    }
   },
   "outputs": [],
   "source": [
    "#soup.prettify"
   ]
  },
  {
   "cell_type": "markdown",
   "metadata": {},
   "source": [
    "### Naviguer avec les balises (tags)"
   ]
  },
  {
   "cell_type": "markdown",
   "metadata": {},
   "source": [
    "<img src=\"img.png\"/>"
   ]
  },
  {
   "cell_type": "markdown",
   "metadata": {},
   "source": [
    "Quelques méthodes de BeautifulSoup pour accéder au contenu d'une page web:\n",
    ">- par Balises (tag) *`soup`*: *`.p`, `.a`, `.h1`,`.div`*, *`li`* ect... ou avec *`.find('a')`*\n",
    ">- puis Attribut id *`.tag.id`* ou *`.find('a', id='content')`*\n",
    ">- Attribut class *`.tag.class_`* ou *`find('a', class_='client')`*\n",
    ">- Attribut name *`.tag.attrs`* ou *`find('a', attrs{'name':'content'})`*  \n",
    "\n",
    ">- *`findAll` ou `find_all`* pour trouver les occurences d'un element, s'utilise comme *`.find`*"
   ]
  },
  {
   "cell_type": "code",
   "execution_count": 236,
   "metadata": {
    "ExecuteTime": {
     "end_time": "2020-04-18T17:09:49.472571Z",
     "start_time": "2020-04-18T17:09:49.465704Z"
    }
   },
   "outputs": [
    {
     "data": {
      "text/plain": [
       "<a href=\"/wiki/Abbasid_invasion_of_Asia_Minor_(806)\" title=\"Abbasid invasion of Asia Minor (806)\">Abbasid invasion of Asia Minor</a>"
      ]
     },
     "execution_count": 236,
     "metadata": {},
     "output_type": "execute_result"
    }
   ],
   "source": [
    "soup.p.a"
   ]
  },
  {
   "cell_type": "code",
   "execution_count": 63,
   "metadata": {
    "ExecuteTime": {
     "end_time": "2020-04-18T11:56:23.703220Z",
     "start_time": "2020-04-18T11:56:23.695501Z"
    }
   },
   "outputs": [
    {
     "data": {
      "text/plain": [
       "{'id': 'mw-page-base', 'class': ['noprint']}"
      ]
     },
     "execution_count": 63,
     "metadata": {},
     "output_type": "execute_result"
    }
   ],
   "source": [
    "soup.div.attrs"
   ]
  },
  {
   "cell_type": "code",
   "execution_count": 112,
   "metadata": {
    "ExecuteTime": {
     "end_time": "2020-04-18T12:23:14.867363Z",
     "start_time": "2020-04-18T12:23:14.860746Z"
    }
   },
   "outputs": [
    {
     "data": {
      "text/plain": [
       "<a id=\"top\"></a>"
      ]
     },
     "execution_count": 112,
     "metadata": {},
     "output_type": "execute_result"
    }
   ],
   "source": [
    "soup.find('a')"
   ]
  },
  {
   "cell_type": "markdown",
   "metadata": {},
   "source": [
    "- Trouver les les liens désignés par *`href`* dans la balise *`<a`*"
   ]
  },
  {
   "cell_type": "code",
   "execution_count": 237,
   "metadata": {
    "ExecuteTime": {
     "end_time": "2020-04-18T17:10:30.329538Z",
     "start_time": "2020-04-18T17:10:30.317185Z"
    },
    "scrolled": true
   },
   "outputs": [
    {
     "data": {
      "text/plain": [
       "'/wiki/Abbasid_invasion_of_Asia_Minor_(806)'"
      ]
     },
     "execution_count": 237,
     "metadata": {},
     "output_type": "execute_result"
    }
   ],
   "source": [
    "#le premier lien\n",
    "soup.p.a['href']"
   ]
  },
  {
   "cell_type": "markdown",
   "metadata": {},
   "source": [
    "pour récupérer tous les liens de la page; contenus dans des balises *`<a`* notés avec l'attribut *`href`*"
   ]
  },
  {
   "cell_type": "code",
   "execution_count": 289,
   "metadata": {
    "ExecuteTime": {
     "end_time": "2020-04-18T18:37:02.645801Z",
     "start_time": "2020-04-18T18:37:02.640103Z"
    }
   },
   "outputs": [],
   "source": [
    "liens = [i.get('href') for i in soup.find_all('a')[3:150]]"
   ]
  },
  {
   "cell_type": "code",
   "execution_count": 290,
   "metadata": {
    "ExecuteTime": {
     "end_time": "2020-04-18T18:37:05.129642Z",
     "start_time": "2020-04-18T18:37:05.121183Z"
    }
   },
   "outputs": [
    {
     "data": {
      "text/plain": [
       "['/wiki/Wikipedia',\n",
       " '/wiki/Free_content',\n",
       " '/wiki/Encyclopedia',\n",
       " '/wiki/Wikipedia:Introduction',\n",
       " '/wiki/Special:Statistics',\n",
       " '/wiki/English_language',\n",
       " '/wiki/Portal:Arts',\n",
       " '/wiki/Portal:Biography',\n",
       " '/wiki/Portal:Geography',\n",
       " '/wiki/Portal:History',\n",
       " '/wiki/Portal:Mathematics',\n",
       " '/wiki/Portal:Science',\n",
       " '/wiki/Portal:Society',\n",
       " '/wiki/Portal:Technology',\n",
       " '/wiki/Wikipedia:Contents/Portals',\n",
       " '/wiki/File:Heraqla,SE.jpg',\n",
       " '/wiki/Abbasid_invasion_of_Asia_Minor_(806)',\n",
       " '/wiki/Abbasid_Caliphate',\n",
       " '/wiki/Byzantine_Empire',\n",
       " '/wiki/Anatolia',\n",
       " '/wiki/List_of_Byzantine_emperors',\n",
       " '/wiki/Nikephoros_I',\n",
       " '/wiki/Tribute',\n",
       " '/wiki/Harun_al-Rashid',\n",
       " '/wiki/List_of_Abbasid_caliphs',\n",
       " '/wiki/Heraclea_Cybistra',\n",
       " '/wiki/Jizya',\n",
       " '/wiki/Staurakios',\n",
       " '/wiki/Fourth_Fitna',\n",
       " '/wiki/Battle_of_Pliska',\n",
       " '/wiki/Abbasid_invasion_of_Asia_Minor_(806)',\n",
       " '/wiki/Vision_in_White',\n",
       " '/wiki/Horologium_(constellation)',\n",
       " '/wiki/Razing_of_Friesoythe',\n",
       " '/wiki/Wikipedia:Today%27s_featured_article/April_2020',\n",
       " 'https://lists.wikimedia.org/mailman/listinfo/daily-article-l',\n",
       " '/wiki/Wikipedia:Featured_articles',\n",
       " '/wiki/File:Bessie_Van_Vorst.jpg',\n",
       " '/wiki/Bessie_Van_Vorst',\n",
       " '/wiki/Oxford_Circus',\n",
       " '/wiki/Cornell_University',\n",
       " '/wiki/Charles_Spencer_Francis',\n",
       " '/wiki/List_of_ambassadors_of_the_United_States_to_Austria',\n",
       " '/wiki/Single_scull',\n",
       " '/wiki/Provincial_Mental_Sanatorium_Kortau',\n",
       " '/wiki/Aktion_T4',\n",
       " '/wiki/Henry_Purcell',\n",
       " '/wiki/Thou_knowest,_Lord,_the_secrets_of_our_hearts_(Purcell)',\n",
       " '/wiki/Mary_II_of_England',\n",
       " '/wiki/Emilia_Clarke',\n",
       " '/wiki/Chicken_(dance)',\n",
       " '/wiki/Robot_(dance)',\n",
       " '/wiki/Game_of_Thrones',\n",
       " '/wiki/Caha_Mountains',\n",
       " '/wiki/County_Cork',\n",
       " '/wiki/Minuartia_recurva',\n",
       " '/wiki/Minuartia',\n",
       " '/wiki/Newyorkitis',\n",
       " '/wiki/YMCA',\n",
       " '/wiki/Wikipedia:Recent_additions',\n",
       " '/wiki/Help:Your_first_article',\n",
       " '/wiki/Template_talk:Did_you_know',\n",
       " '/wiki/2019%E2%80%9320_coronavirus_pandemic',\n",
       " '/wiki/Coronavirus_disease_2019',\n",
       " '/wiki/Severe_acute_respiratory_syndrome_coronavirus_2',\n",
       " '/wiki/COVID-19_testing',\n",
       " '/wiki/Timeline_of_the_2019%E2%80%9320_coronavirus_pandemic',\n",
       " '/wiki/Timeline_of_the_2019%E2%80%9320_coronavirus_pandemic_in_April_2020',\n",
       " '/wiki/2019%E2%80%9320_coronavirus_pandemic_by_country_and_territory',\n",
       " '/wiki/Socio-economic_impact_of_the_2019%E2%80%9320_coronavirus_pandemic',\n",
       " '/wiki/List_of_deaths_due_to_coronavirus_disease_2019',\n",
       " '/wiki/Portal:Coronavirus_disease_2019',\n",
       " '/wiki/File:Southeast_US_severe_weather_outbreak_2020-04-12_2156z.jpg',\n",
       " '/wiki/2020_Easter_tornado_outbreak',\n",
       " '/wiki/Southeastern_United_States',\n",
       " '/wiki/High_Court_of_Australia',\n",
       " '/wiki/George_Pell',\n",
       " '/wiki/Cyclone_Harold',\n",
       " '/wiki/Solomon_Islands',\n",
       " '/wiki/Vanuatu',\n",
       " '/wiki/Fiji',\n",
       " '/wiki/Tonga',\n",
       " '/wiki/Deaths_in_2020',\n",
       " '/wiki/Norman_Hunter_(footballer)',\n",
       " '/wiki/Joe_Brown_(climber)',\n",
       " '/wiki/Adam_Alsing',\n",
       " '/wiki/Kerstin_Meyer',\n",
       " '/wiki/Hank_Steinbrenner',\n",
       " '/wiki/Jacques_Blamont',\n",
       " '/wiki/Portal:Current_events',\n",
       " '/wiki/Wikipedia:In_the_news/Candidates',\n",
       " '/wiki/April_17',\n",
       " '/wiki/Evacuation_Day_(Syria)',\n",
       " '/wiki/1946',\n",
       " '/wiki/File:Kauno_pilis_2011_(cropped).jpg',\n",
       " '/wiki/1362',\n",
       " '/wiki/Lithuanian_Crusade',\n",
       " '/wiki/Siege_of_Kaunas',\n",
       " '/wiki/Teutonic_Order',\n",
       " '/wiki/Kaunas_Castle',\n",
       " '/wiki/Grand_Duchy_of_Lithuania',\n",
       " '/wiki/1797',\n",
       " '/wiki/French_Revolutionary_Wars',\n",
       " '/wiki/Ralph_Abercromby',\n",
       " '/wiki/Battle_of_San_Juan_(1797)',\n",
       " '/wiki/San_Juan,_Puerto_Rico',\n",
       " '/wiki/1869',\n",
       " '/wiki/Morelos',\n",
       " '/wiki/Jos%C3%A9_Mar%C3%ADa_Morelos',\n",
       " '/wiki/Siege_of_Cuautla',\n",
       " '/wiki/1951',\n",
       " '/wiki/Peak_District',\n",
       " '/wiki/National_parks_of_the_United_Kingdom',\n",
       " '/wiki/1975',\n",
       " '/wiki/Khmer_Rouge',\n",
       " '/wiki/Fall_of_Phnom_Penh',\n",
       " '/wiki/Phnom_Penh',\n",
       " '/wiki/Khmer_Republic',\n",
       " '/wiki/Cambodian_Civil_War',\n",
       " '/wiki/Democratic_Kampuchea',\n",
       " '/wiki/Bernard_of_Italy',\n",
       " '/wiki/Eliza_Acton',\n",
       " '/wiki/Vikram_(actor)',\n",
       " '/wiki/April_16',\n",
       " '/wiki/April_17',\n",
       " '/wiki/April_18',\n",
       " '/wiki/Wikipedia:Selected_anniversaries/April',\n",
       " 'https://lists.wikimedia.org/mailman/listinfo/daily-article-l',\n",
       " '/wiki/List_of_historical_anniversaries',\n",
       " '/wiki/File:Peter_Dinklage_by_Gage_Skidmore.jpg',\n",
       " '/wiki/Game_of_Thrones',\n",
       " '/wiki/List_of_awards_and_nominations_received_by_Game_of_Thrones',\n",
       " '/wiki/David_Benioff',\n",
       " '/wiki/D._B._Weiss',\n",
       " '/wiki/HBO',\n",
       " '/wiki/George_R._R._Martin',\n",
       " '/wiki/A_Song_of_Ice_and_Fire',\n",
       " '/wiki/Golden_Globe_Awards',\n",
       " '/wiki/Writers_Guild_of_America_Awards',\n",
       " '/wiki/Producers_Guild_of_America_Award',\n",
       " '/wiki/Directors_Guild_of_America_Award',\n",
       " '/wiki/Screen_Actors_Guild_Award_for_Outstanding_Performance_by_an_Ensemble_in_a_Drama_Series',\n",
       " '/wiki/Peter_Dinklage',\n",
       " '/wiki/Tyrion_Lannister',\n",
       " '/wiki/Primetime_Emmy_Award_for_Outstanding_Supporting_Actor_in_a_Drama_Series',\n",
       " '/wiki/Golden_Globe_Award_for_Best_Supporting_Actor_%E2%80%93_Series,_Miniseries_or_Television_Film',\n",
       " '/wiki/List_of_awards_and_nominations_received_by_Game_of_Thrones']"
      ]
     },
     "execution_count": 290,
     "metadata": {},
     "output_type": "execute_result"
    }
   ],
   "source": [
    "liens"
   ]
  },
  {
   "cell_type": "code",
   "execution_count": 279,
   "metadata": {
    "ExecuteTime": {
     "end_time": "2020-04-18T18:13:29.944151Z",
     "start_time": "2020-04-18T18:13:29.940583Z"
    }
   },
   "outputs": [],
   "source": [
    "#on peut aussi faire\n",
    "#l=[]\n",
    "#for i in soup.findAll('a'):\n",
    "#    l.append(a[\"href\"])\n",
    "#l"
   ]
  },
  {
   "cell_type": "markdown",
   "metadata": {},
   "source": [
    "- afficher les parents du tag *`p`*"
   ]
  },
  {
   "cell_type": "code",
   "execution_count": 76,
   "metadata": {
    "ExecuteTime": {
     "end_time": "2020-04-18T12:09:33.809195Z",
     "start_time": "2020-04-18T12:09:33.801235Z"
    }
   },
   "outputs": [
    {
     "name": "stdout",
     "output_type": "stream",
     "text": [
      "div\n",
      "td\n",
      "tr\n",
      "tbody\n",
      "table\n",
      "div\n",
      "div\n",
      "div\n",
      "div\n",
      "body\n",
      "html\n",
      "[document]\n"
     ]
    }
   ],
   "source": [
    "for p in soup.p.parents:\n",
    "    print(p.name)"
   ]
  },
  {
   "cell_type": "markdown",
   "metadata": {},
   "source": [
    "- chercher les parents du tag *`.li`*"
   ]
  },
  {
   "cell_type": "code",
   "execution_count": null,
   "metadata": {},
   "outputs": [],
   "source": [
    "#for p in soup.li.parents:\n",
    "#    print(p)"
   ]
  },
  {
   "cell_type": "markdown",
   "metadata": {},
   "source": [
    "### Accéder au texte "
   ]
  },
  {
   "cell_type": "markdown",
   "metadata": {},
   "source": [
    ">- *`.text`*\n",
    ">- *`.string`*\n",
    ">- *`.get_text()`* on peut lui passer un arg comme *`\"|\"`* qui séparer "
   ]
  },
  {
   "cell_type": "code",
   "execution_count": 96,
   "metadata": {
    "ExecuteTime": {
     "end_time": "2020-04-18T12:15:50.240978Z",
     "start_time": "2020-04-18T12:15:50.234901Z"
    }
   },
   "outputs": [
    {
     "data": {
      "text/plain": [
       "'Abbasid invasion of Asia Minor'"
      ]
     },
     "execution_count": 96,
     "metadata": {},
     "output_type": "execute_result"
    }
   ],
   "source": [
    "soup.p.a.string"
   ]
  },
  {
   "cell_type": "code",
   "execution_count": 106,
   "metadata": {
    "ExecuteTime": {
     "end_time": "2020-04-18T12:16:46.605944Z",
     "start_time": "2020-04-18T12:16:46.598678Z"
    }
   },
   "outputs": [
    {
     "data": {
      "text/plain": [
       "'The Abbasid invasion of Asia Minor in 806 CE was an attack by the Abbasid Caliphate against the Byzantine Empire in southeastern and central Asia Minor'"
      ]
     },
     "execution_count": 106,
     "metadata": {},
     "output_type": "execute_result"
    }
   ],
   "source": [
    "soup.p.text[:151]"
   ]
  },
  {
   "cell_type": "markdown",
   "metadata": {},
   "source": [
    "- *`soup.get_text()`* va afficher tous le texte contenue dans *`soup`*"
   ]
  },
  {
   "cell_type": "code",
   "execution_count": 132,
   "metadata": {
    "ExecuteTime": {
     "end_time": "2020-04-18T15:38:40.971635Z",
     "start_time": "2020-04-18T15:38:40.967566Z"
    }
   },
   "outputs": [],
   "source": [
    "#soup.get_text()"
   ]
  },
  {
   "cell_type": "markdown",
   "metadata": {},
   "source": [
    "## CSS selector  \n",
    ">- *`.select()`* Pour capturer les élement contenue dans un fichier .css"
   ]
  },
  {
   "cell_type": "code",
   "execution_count": 262,
   "metadata": {
    "ExecuteTime": {
     "end_time": "2020-04-18T17:18:03.564209Z",
     "start_time": "2020-04-18T17:18:03.549593Z"
    }
   },
   "outputs": [
    {
     "data": {
      "text/plain": [
       "<a href=\"/wiki/Portal:Society\" title=\"Portal:Society\">Society</a>"
      ]
     },
     "execution_count": 262,
     "metadata": {},
     "output_type": "execute_result"
    }
   ],
   "source": [
    "soup.select('a')[15]"
   ]
  },
  {
   "cell_type": "code",
   "execution_count": 263,
   "metadata": {
    "ExecuteTime": {
     "end_time": "2020-04-18T17:31:14.227680Z",
     "start_time": "2020-04-18T17:31:14.165430Z"
    },
    "collapsed": true
   },
   "outputs": [
    {
     "ename": "MissingSchema",
     "evalue": "Invalid URL 'None': No schema supplied. Perhaps you meant http://None?",
     "output_type": "error",
     "traceback": [
      "\u001b[0;31m------------------------------------------------------------------------\u001b[0m",
      "\u001b[0;31mMissingSchema\u001b[0m                          Traceback (most recent call last)",
      "\u001b[0;32m<ipython-input-263-3828cfe03927>\u001b[0m in \u001b[0;36m<module>\u001b[0;34m\u001b[0m\n\u001b[1;32m      3\u001b[0m \u001b[0;31m#follow each link:\u001b[0m\u001b[0;34m\u001b[0m\u001b[0;34m\u001b[0m\u001b[0;34m\u001b[0m\u001b[0m\n\u001b[1;32m      4\u001b[0m \u001b[0;32mfor\u001b[0m \u001b[0mlink\u001b[0m \u001b[0;32min\u001b[0m \u001b[0mliens\u001b[0m\u001b[0;34m:\u001b[0m\u001b[0;34m\u001b[0m\u001b[0;34m\u001b[0m\u001b[0m\n\u001b[0;32m----> 5\u001b[0;31m     \u001b[0mwebpage\u001b[0m \u001b[0;34m=\u001b[0m \u001b[0mrequests\u001b[0m\u001b[0;34m.\u001b[0m\u001b[0mget\u001b[0m\u001b[0;34m(\u001b[0m\u001b[0mlink\u001b[0m\u001b[0;34m)\u001b[0m\u001b[0;34m\u001b[0m\u001b[0;34m\u001b[0m\u001b[0m\n\u001b[0m\u001b[1;32m      6\u001b[0m     \u001b[0mnew_soup\u001b[0m \u001b[0;34m=\u001b[0m \u001b[0mBeautifulSoup\u001b[0m\u001b[0;34m(\u001b[0m\u001b[0mwebpage\u001b[0m\u001b[0;34m.\u001b[0m\u001b[0mcontent\u001b[0m\u001b[0;34m,\u001b[0m \u001b[0;34m\"html.parser\"\u001b[0m\u001b[0;34m)\u001b[0m\u001b[0;34m\u001b[0m\u001b[0;34m\u001b[0m\u001b[0m\n\u001b[1;32m      7\u001b[0m \u001b[0;34m\u001b[0m\u001b[0m\n",
      "\u001b[0;32m~/opt/anaconda3/lib/python3.7/site-packages/requests/api.py\u001b[0m in \u001b[0;36mget\u001b[0;34m(url, params, **kwargs)\u001b[0m\n\u001b[1;32m     73\u001b[0m \u001b[0;34m\u001b[0m\u001b[0m\n\u001b[1;32m     74\u001b[0m     \u001b[0mkwargs\u001b[0m\u001b[0;34m.\u001b[0m\u001b[0msetdefault\u001b[0m\u001b[0;34m(\u001b[0m\u001b[0;34m'allow_redirects'\u001b[0m\u001b[0;34m,\u001b[0m \u001b[0;32mTrue\u001b[0m\u001b[0;34m)\u001b[0m\u001b[0;34m\u001b[0m\u001b[0;34m\u001b[0m\u001b[0m\n\u001b[0;32m---> 75\u001b[0;31m     \u001b[0;32mreturn\u001b[0m \u001b[0mrequest\u001b[0m\u001b[0;34m(\u001b[0m\u001b[0;34m'get'\u001b[0m\u001b[0;34m,\u001b[0m \u001b[0murl\u001b[0m\u001b[0;34m,\u001b[0m \u001b[0mparams\u001b[0m\u001b[0;34m=\u001b[0m\u001b[0mparams\u001b[0m\u001b[0;34m,\u001b[0m \u001b[0;34m**\u001b[0m\u001b[0mkwargs\u001b[0m\u001b[0;34m)\u001b[0m\u001b[0;34m\u001b[0m\u001b[0;34m\u001b[0m\u001b[0m\n\u001b[0m\u001b[1;32m     76\u001b[0m \u001b[0;34m\u001b[0m\u001b[0m\n\u001b[1;32m     77\u001b[0m \u001b[0;34m\u001b[0m\u001b[0m\n",
      "\u001b[0;32m~/opt/anaconda3/lib/python3.7/site-packages/requests/api.py\u001b[0m in \u001b[0;36mrequest\u001b[0;34m(method, url, **kwargs)\u001b[0m\n\u001b[1;32m     58\u001b[0m     \u001b[0;31m# cases, and look like a memory leak in others.\u001b[0m\u001b[0;34m\u001b[0m\u001b[0;34m\u001b[0m\u001b[0;34m\u001b[0m\u001b[0m\n\u001b[1;32m     59\u001b[0m     \u001b[0;32mwith\u001b[0m \u001b[0msessions\u001b[0m\u001b[0;34m.\u001b[0m\u001b[0mSession\u001b[0m\u001b[0;34m(\u001b[0m\u001b[0;34m)\u001b[0m \u001b[0;32mas\u001b[0m \u001b[0msession\u001b[0m\u001b[0;34m:\u001b[0m\u001b[0;34m\u001b[0m\u001b[0;34m\u001b[0m\u001b[0m\n\u001b[0;32m---> 60\u001b[0;31m         \u001b[0;32mreturn\u001b[0m \u001b[0msession\u001b[0m\u001b[0;34m.\u001b[0m\u001b[0mrequest\u001b[0m\u001b[0;34m(\u001b[0m\u001b[0mmethod\u001b[0m\u001b[0;34m=\u001b[0m\u001b[0mmethod\u001b[0m\u001b[0;34m,\u001b[0m \u001b[0murl\u001b[0m\u001b[0;34m=\u001b[0m\u001b[0murl\u001b[0m\u001b[0;34m,\u001b[0m \u001b[0;34m**\u001b[0m\u001b[0mkwargs\u001b[0m\u001b[0;34m)\u001b[0m\u001b[0;34m\u001b[0m\u001b[0;34m\u001b[0m\u001b[0m\n\u001b[0m\u001b[1;32m     61\u001b[0m \u001b[0;34m\u001b[0m\u001b[0m\n\u001b[1;32m     62\u001b[0m \u001b[0;34m\u001b[0m\u001b[0m\n",
      "\u001b[0;32m~/opt/anaconda3/lib/python3.7/site-packages/requests/sessions.py\u001b[0m in \u001b[0;36mrequest\u001b[0;34m(self, method, url, params, data, headers, cookies, files, auth, timeout, allow_redirects, proxies, hooks, stream, verify, cert, json)\u001b[0m\n\u001b[1;32m    517\u001b[0m             \u001b[0mhooks\u001b[0m\u001b[0;34m=\u001b[0m\u001b[0mhooks\u001b[0m\u001b[0;34m,\u001b[0m\u001b[0;34m\u001b[0m\u001b[0;34m\u001b[0m\u001b[0m\n\u001b[1;32m    518\u001b[0m         )\n\u001b[0;32m--> 519\u001b[0;31m         \u001b[0mprep\u001b[0m \u001b[0;34m=\u001b[0m \u001b[0mself\u001b[0m\u001b[0;34m.\u001b[0m\u001b[0mprepare_request\u001b[0m\u001b[0;34m(\u001b[0m\u001b[0mreq\u001b[0m\u001b[0;34m)\u001b[0m\u001b[0;34m\u001b[0m\u001b[0;34m\u001b[0m\u001b[0m\n\u001b[0m\u001b[1;32m    520\u001b[0m \u001b[0;34m\u001b[0m\u001b[0m\n\u001b[1;32m    521\u001b[0m         \u001b[0mproxies\u001b[0m \u001b[0;34m=\u001b[0m \u001b[0mproxies\u001b[0m \u001b[0;32mor\u001b[0m \u001b[0;34m{\u001b[0m\u001b[0;34m}\u001b[0m\u001b[0;34m\u001b[0m\u001b[0;34m\u001b[0m\u001b[0m\n",
      "\u001b[0;32m~/opt/anaconda3/lib/python3.7/site-packages/requests/sessions.py\u001b[0m in \u001b[0;36mprepare_request\u001b[0;34m(self, request)\u001b[0m\n\u001b[1;32m    460\u001b[0m             \u001b[0mauth\u001b[0m\u001b[0;34m=\u001b[0m\u001b[0mmerge_setting\u001b[0m\u001b[0;34m(\u001b[0m\u001b[0mauth\u001b[0m\u001b[0;34m,\u001b[0m \u001b[0mself\u001b[0m\u001b[0;34m.\u001b[0m\u001b[0mauth\u001b[0m\u001b[0;34m)\u001b[0m\u001b[0;34m,\u001b[0m\u001b[0;34m\u001b[0m\u001b[0;34m\u001b[0m\u001b[0m\n\u001b[1;32m    461\u001b[0m             \u001b[0mcookies\u001b[0m\u001b[0;34m=\u001b[0m\u001b[0mmerged_cookies\u001b[0m\u001b[0;34m,\u001b[0m\u001b[0;34m\u001b[0m\u001b[0;34m\u001b[0m\u001b[0m\n\u001b[0;32m--> 462\u001b[0;31m             \u001b[0mhooks\u001b[0m\u001b[0;34m=\u001b[0m\u001b[0mmerge_hooks\u001b[0m\u001b[0;34m(\u001b[0m\u001b[0mrequest\u001b[0m\u001b[0;34m.\u001b[0m\u001b[0mhooks\u001b[0m\u001b[0;34m,\u001b[0m \u001b[0mself\u001b[0m\u001b[0;34m.\u001b[0m\u001b[0mhooks\u001b[0m\u001b[0;34m)\u001b[0m\u001b[0;34m,\u001b[0m\u001b[0;34m\u001b[0m\u001b[0;34m\u001b[0m\u001b[0m\n\u001b[0m\u001b[1;32m    463\u001b[0m         )\n\u001b[1;32m    464\u001b[0m         \u001b[0;32mreturn\u001b[0m \u001b[0mp\u001b[0m\u001b[0;34m\u001b[0m\u001b[0;34m\u001b[0m\u001b[0m\n",
      "\u001b[0;32m~/opt/anaconda3/lib/python3.7/site-packages/requests/models.py\u001b[0m in \u001b[0;36mprepare\u001b[0;34m(self, method, url, headers, files, data, params, auth, cookies, hooks, json)\u001b[0m\n\u001b[1;32m    311\u001b[0m \u001b[0;34m\u001b[0m\u001b[0m\n\u001b[1;32m    312\u001b[0m         \u001b[0mself\u001b[0m\u001b[0;34m.\u001b[0m\u001b[0mprepare_method\u001b[0m\u001b[0;34m(\u001b[0m\u001b[0mmethod\u001b[0m\u001b[0;34m)\u001b[0m\u001b[0;34m\u001b[0m\u001b[0;34m\u001b[0m\u001b[0m\n\u001b[0;32m--> 313\u001b[0;31m         \u001b[0mself\u001b[0m\u001b[0;34m.\u001b[0m\u001b[0mprepare_url\u001b[0m\u001b[0;34m(\u001b[0m\u001b[0murl\u001b[0m\u001b[0;34m,\u001b[0m \u001b[0mparams\u001b[0m\u001b[0;34m)\u001b[0m\u001b[0;34m\u001b[0m\u001b[0;34m\u001b[0m\u001b[0m\n\u001b[0m\u001b[1;32m    314\u001b[0m         \u001b[0mself\u001b[0m\u001b[0;34m.\u001b[0m\u001b[0mprepare_headers\u001b[0m\u001b[0;34m(\u001b[0m\u001b[0mheaders\u001b[0m\u001b[0;34m)\u001b[0m\u001b[0;34m\u001b[0m\u001b[0;34m\u001b[0m\u001b[0m\n\u001b[1;32m    315\u001b[0m         \u001b[0mself\u001b[0m\u001b[0;34m.\u001b[0m\u001b[0mprepare_cookies\u001b[0m\u001b[0;34m(\u001b[0m\u001b[0mcookies\u001b[0m\u001b[0;34m)\u001b[0m\u001b[0;34m\u001b[0m\u001b[0;34m\u001b[0m\u001b[0m\n",
      "\u001b[0;32m~/opt/anaconda3/lib/python3.7/site-packages/requests/models.py\u001b[0m in \u001b[0;36mprepare_url\u001b[0;34m(self, url, params)\u001b[0m\n\u001b[1;32m    385\u001b[0m             \u001b[0merror\u001b[0m \u001b[0;34m=\u001b[0m \u001b[0merror\u001b[0m\u001b[0;34m.\u001b[0m\u001b[0mformat\u001b[0m\u001b[0;34m(\u001b[0m\u001b[0mto_native_string\u001b[0m\u001b[0;34m(\u001b[0m\u001b[0murl\u001b[0m\u001b[0;34m,\u001b[0m \u001b[0;34m'utf8'\u001b[0m\u001b[0;34m)\u001b[0m\u001b[0;34m)\u001b[0m\u001b[0;34m\u001b[0m\u001b[0;34m\u001b[0m\u001b[0m\n\u001b[1;32m    386\u001b[0m \u001b[0;34m\u001b[0m\u001b[0m\n\u001b[0;32m--> 387\u001b[0;31m             \u001b[0;32mraise\u001b[0m \u001b[0mMissingSchema\u001b[0m\u001b[0;34m(\u001b[0m\u001b[0merror\u001b[0m\u001b[0;34m)\u001b[0m\u001b[0;34m\u001b[0m\u001b[0;34m\u001b[0m\u001b[0m\n\u001b[0m\u001b[1;32m    388\u001b[0m \u001b[0;34m\u001b[0m\u001b[0m\n\u001b[1;32m    389\u001b[0m         \u001b[0;32mif\u001b[0m \u001b[0;32mnot\u001b[0m \u001b[0mhost\u001b[0m\u001b[0;34m:\u001b[0m\u001b[0;34m\u001b[0m\u001b[0;34m\u001b[0m\u001b[0m\n",
      "\u001b[0;31mMissingSchema\u001b[0m: Invalid URL 'None': No schema supplied. Perhaps you meant http://None?"
     ]
    }
   ],
   "source": [
    "new_links = {}\n",
    "\n",
    "#follow each link:\n",
    "for link in liens:\n",
    "    webpage = requests.get(link)\n",
    "    new_soup = BeautifulSoup(webpage.content, \"html.parser\")\n",
    "    \n",
    "    new_l = new_soup.select(\".name\")[0]\n",
    "    # dans le contenue de la pageweb on select du CSS(les tags de la classe \".name\")\n",
    "    #print(type(turtle_name))\n",
    "    new_links[turtle_name] = []#add vlaue in an empty list\n"
   ]
  },
  {
   "cell_type": "code",
   "execution_count": null,
   "metadata": {},
   "outputs": [],
   "source": [
    "#res = requests.get(\"https://en.wikipedia.org/wiki/List_of_naval_battles\")\n",
    "soup = bs(res.text, \"html.parser\")\n",
    "naval_battles = {}\n",
    "for link in soup.find_all(\"a\"):\n",
    "    url = link.get(\"href\", \"\")\n",
    "    if \"/wiki/Battle\" in url:\n",
    "        naval_battles[link.text.strip()] = url\n",
    "\n",
    "print(naval_battles)"
   ]
  },
  {
   "cell_type": "code",
   "execution_count": 292,
   "metadata": {
    "ExecuteTime": {
     "end_time": "2020-04-18T22:21:23.738841Z",
     "start_time": "2020-04-18T22:21:23.719333Z"
    }
   },
   "outputs": [
    {
     "data": {
      "text/plain": [
       "[]"
      ]
     },
     "execution_count": 292,
     "metadata": {},
     "output_type": "execute_result"
    }
   ],
   "source": [
    "soup.select(\".header\")"
   ]
  },
  {
   "cell_type": "code",
   "execution_count": null,
   "metadata": {},
   "outputs": [],
   "source": []
  },
  {
   "cell_type": "markdown",
   "metadata": {},
   "source": [
    "## références\n",
    "**Requests**\n",
    "- http://fr.python-requests.org/en/latest/user/quickstart.html#requetes-post-avancees\n",
    "- https://requests-fr.readthedocs.io/en/latest/user/advanced.html\n",
    "- http://dridk.me/python-requests.html"
   ]
  },
  {
   "cell_type": "markdown",
   "metadata": {},
   "source": [
    "**BeautifulSoup**\n",
    "- http://jhroy.ca/uqam/edm5240/BeautifulSoup-DocAbregee.pdf\n",
    "- http://sametmax.com/parser-du-html-avec-beautifulsoup/\n",
    "\n",
    "- https://www.crummy.com/software/BeautifulSoup/bs4/doc/  (doc officiel)\n"
   ]
  }
 ],
 "metadata": {
  "hide_input": false,
  "kernelspec": {
   "display_name": "Python 3",
   "language": "python",
   "name": "python3"
  },
  "language_info": {
   "codemirror_mode": {
    "name": "ipython",
    "version": 3
   },
   "file_extension": ".py",
   "mimetype": "text/x-python",
   "name": "python",
   "nbconvert_exporter": "python",
   "pygments_lexer": "ipython3",
   "version": "3.8.3rc1"
  },
  "latex_envs": {
   "LaTeX_envs_menu_present": true,
   "autoclose": false,
   "autocomplete": true,
   "bibliofile": "biblio.bib",
   "cite_by": "apalike",
   "current_citInitial": 1,
   "eqLabelWithNumbers": true,
   "eqNumInitial": 1,
   "hotkeys": {
    "equation": "Ctrl-E",
    "itemize": "Ctrl-I"
   },
   "labels_anchors": false,
   "latex_user_defs": false,
   "report_style_numbering": false,
   "user_envs_cfg": false
  },
  "toc": {
   "base_numbering": 1,
   "nav_menu": {},
   "number_sections": true,
   "sideBar": true,
   "skip_h1_title": false,
   "title_cell": "Table of Contents",
   "title_sidebar": "Contents",
   "toc_cell": false,
   "toc_position": {},
   "toc_section_display": true,
   "toc_window_display": false
  },
  "varInspector": {
   "cols": {
    "lenName": 16,
    "lenType": 16,
    "lenVar": 40
   },
   "kernels_config": {
    "python": {
     "delete_cmd_postfix": "",
     "delete_cmd_prefix": "del ",
     "library": "var_list.py",
     "varRefreshCmd": "print(var_dic_list())"
    },
    "r": {
     "delete_cmd_postfix": ") ",
     "delete_cmd_prefix": "rm(",
     "library": "var_list.r",
     "varRefreshCmd": "cat(var_dic_list()) "
    }
   },
   "types_to_exclude": [
    "module",
    "function",
    "builtin_function_or_method",
    "instance",
    "_Feature"
   ],
   "window_display": false
  }
 },
 "nbformat": 4,
 "nbformat_minor": 2
}
