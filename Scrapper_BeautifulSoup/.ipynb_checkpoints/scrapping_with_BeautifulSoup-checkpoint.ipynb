{
 "cells": [
  {
   "cell_type": "markdown",
   "metadata": {},
   "source": [
    "# Scrapping with BeautifulSoup "
   ]
  },
  {
   "cell_type": "markdown",
   "metadata": {},
   "source": [
    "Scrapper des données sur le Web à l'aide des librairies **BeautifulSoup** et **Requests**"
   ]
  },
  {
   "cell_type": "code",
   "execution_count": 9,
   "metadata": {
    "ExecuteTime": {
     "end_time": "2020-04-17T15:28:23.539509Z",
     "start_time": "2020-04-17T15:28:23.532789Z"
    }
   },
   "outputs": [],
   "source": [
    "import requests\n",
    "from bs4 import BeautifulSoup"
   ]
  },
  {
   "cell_type": "markdown",
   "metadata": {},
   "source": [
    "## Requests, récuprer le code d'un site web\n",
    "\n",
    "**requests** est un module python qui sert à faire des requêtes sur le web via les protocoles HTTP  \n",
    "\n",
    "Avec se module nous allons pouvoir récuperer le code HTML d'un site web via son URL"
   ]
  },
  {
   "cell_type": "markdown",
   "metadata": {},
   "source": [
    "Quelques méthodes de *`requests`*:\n",
    "\n",
    ">* *`.get('url')`* LA commande qui permet d'aller chercher via une URL le format brut HTML sous forme d'un objet \"HTTPResponse\" du module urllib3.  Possible argument *`auth=('username','password')`* si il y a besoins d'une authentification  \n",
    ">* *`.post`* permet d'envoyer des données vers le siteweb comme un *username* et un *psswd*  à travers un *`dict`*, ou même des img..\n",
    ">* *`sess = requests.Session()`*; puis  Pour effectuer plusieurs requêtes sur un site, qui permet de conserver les identification et les cookies pendant l'exécution de toutes les requêtes. L'objet *`Session`* ici *`sess`* possède toute les méthodes de `requests` dont *`.get`* par exemple."
   ]
  },
  {
   "cell_type": "markdown",
   "metadata": {},
   "source": [
    "On peut lire la réponse de *`.get`* avec:\n",
    ">* *`r.text`* Retourne le contenu en unicode\n",
    ">* *`r.content`* Retourne le contenu en bytes\n",
    ">* *`r.json`* Retourne le contenu sous forme json\n",
    ">* *`r.headers`* Retourne le headers sous forme de dictionnaire "
   ]
  },
  {
   "cell_type": "code",
   "execution_count": 10,
   "metadata": {
    "ExecuteTime": {
     "end_time": "2020-04-17T16:21:31.687332Z",
     "start_time": "2020-04-17T16:21:31.567565Z"
    }
   },
   "outputs": [],
   "source": [
    "html = requests.get('https://en.wikipedia.org/wiki/Main_Page')"
   ]
  },
  {
   "cell_type": "code",
   "execution_count": 11,
   "metadata": {
    "ExecuteTime": {
     "end_time": "2020-04-17T16:21:32.435208Z",
     "start_time": "2020-04-17T16:21:32.427339Z"
    },
    "collapsed": true
   },
   "outputs": [
    {
     "data": {
      "text/plain": [
       "{'Date': 'Fri, 17 Apr 2020 16:21:12 GMT', 'Content-Type': 'text/html; charset=UTF-8', 'Server': 'mw1322.eqiad.wmnet', 'X-Content-Type-Options': 'nosniff', 'P3P': 'CP=\"See https://en.wikipedia.org/wiki/Special:CentralAutoLogin/P3P for more info.\"', 'Content-language': 'en', 'Vary': 'Accept-Encoding,Cookie,Authorization', 'Last-Modified': 'Fri, 17 Apr 2020 16:21:12 GMT', 'Content-Encoding': 'gzip', 'Age': '19', 'X-Cache': 'cp3052 miss, cp3064 hit/170', 'X-Cache-Status': 'hit-front', 'Server-Timing': 'cache;desc=\"hit-front\"', 'Strict-Transport-Security': 'max-age=106384710; includeSubDomains; preload', 'Set-Cookie': 'WMF-Last-Access=17-Apr-2020;Path=/;HttpOnly;secure;Expires=Tue, 19 May 2020 12:00:00 GMT, WMF-Last-Access-Global=17-Apr-2020;Path=/;Domain=.wikipedia.org;HttpOnly;secure;Expires=Tue, 19 May 2020 12:00:00 GMT, GeoIP=FR:IDF:Paris:48.85:2.35:v4; Path=/; secure; Domain=.wikipedia.org', 'X-Client-IP': '176.158.40.138', 'Cache-Control': 'private, s-maxage=0, max-age=0, must-revalidate', 'Accept-Ranges': 'bytes', 'Content-Length': '19546', 'Connection': 'keep-alive'}"
      ]
     },
     "execution_count": 11,
     "metadata": {},
     "output_type": "execute_result"
    }
   ],
   "source": [
    "html.headers"
   ]
  },
  {
   "cell_type": "markdown",
   "metadata": {},
   "source": [
    "## BeautifulSoup pour analyser le HTML  \n",
    "Començons par créer un Objet BeautfulSoup avec la réponse récupérée par *`.get()`* avec la méthode *`.content`* de *`requests`*, pour pouvoir ensuite utiliser toutes les méthodes d'analyse de HTML de BS.  \n",
    "On lui passe en arg *`html.parser`* pour lui signifier que c'est bien du html."
   ]
  },
  {
   "cell_type": "code",
   "execution_count": 14,
   "metadata": {
    "ExecuteTime": {
     "end_time": "2020-04-17T16:21:56.701202Z",
     "start_time": "2020-04-17T16:21:56.622121Z"
    }
   },
   "outputs": [],
   "source": [
    "soup = BeautifulSoup(html.content, \"html.parser\")"
   ]
  },
  {
   "cell_type": "markdown",
   "metadata": {},
   "source": [
    "<img src=\"img.png\"/>"
   ]
  },
  {
   "cell_type": "code",
   "execution_count": null,
   "metadata": {},
   "outputs": [],
   "source": []
  },
  {
   "cell_type": "code",
   "execution_count": null,
   "metadata": {},
   "outputs": [],
   "source": []
  },
  {
   "cell_type": "code",
   "execution_count": null,
   "metadata": {},
   "outputs": [],
   "source": []
  },
  {
   "cell_type": "markdown",
   "metadata": {},
   "source": [
    "## références\n",
    "**Requests**\n",
    "- http://fr.python-requests.org/en/latest/user/quickstart.html#requetes-post-avancees\n",
    "- https://requests-fr.readthedocs.io/en/latest/user/advanced.html\n",
    "- http://dridk.me/python-requests.html"
   ]
  },
  {
   "cell_type": "markdown",
   "metadata": {},
   "source": [
    "**BeautifulSoup**\n",
    "- http://jhroy.ca/uqam/edm5240/BeautifulSoup-DocAbregee.pdf"
   ]
  }
 ],
 "metadata": {
  "hide_input": false,
  "kernelspec": {
   "display_name": "Python 3",
   "language": "python",
   "name": "python3"
  },
  "language_info": {
   "codemirror_mode": {
    "name": "ipython",
    "version": 3
   },
   "file_extension": ".py",
   "mimetype": "text/x-python",
   "name": "python",
   "nbconvert_exporter": "python",
   "pygments_lexer": "ipython3",
   "version": "3.7.4"
  },
  "latex_envs": {
   "LaTeX_envs_menu_present": true,
   "autoclose": false,
   "autocomplete": true,
   "bibliofile": "biblio.bib",
   "cite_by": "apalike",
   "current_citInitial": 1,
   "eqLabelWithNumbers": true,
   "eqNumInitial": 1,
   "hotkeys": {
    "equation": "Ctrl-E",
    "itemize": "Ctrl-I"
   },
   "labels_anchors": false,
   "latex_user_defs": false,
   "report_style_numbering": false,
   "user_envs_cfg": false
  },
  "toc": {
   "base_numbering": 1,
   "nav_menu": {},
   "number_sections": true,
   "sideBar": true,
   "skip_h1_title": false,
   "title_cell": "Table of Contents",
   "title_sidebar": "Contents",
   "toc_cell": false,
   "toc_position": {},
   "toc_section_display": true,
   "toc_window_display": false
  }
 },
 "nbformat": 4,
 "nbformat_minor": 2
}
