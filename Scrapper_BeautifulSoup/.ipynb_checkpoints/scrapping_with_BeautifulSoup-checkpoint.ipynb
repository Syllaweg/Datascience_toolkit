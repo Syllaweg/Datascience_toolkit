{
 "cells": [
  {
   "cell_type": "markdown",
   "metadata": {},
   "source": [
    "# Scrapping with BeautifulSoup "
   ]
  },
  {
   "cell_type": "markdown",
   "metadata": {},
   "source": [
    "Scrapper des données sur le Web à l'aide des librairies **BeautifulSoup** et **Requests**"
   ]
  },
  {
   "cell_type": "code",
   "execution_count": 9,
   "metadata": {
    "ExecuteTime": {
     "end_time": "2020-04-17T15:28:23.539509Z",
     "start_time": "2020-04-17T15:28:23.532789Z"
    }
   },
   "outputs": [],
   "source": [
    "import requests\n",
    "from bs4 import BeautifulSoup"
   ]
  },
  {
   "cell_type": "markdown",
   "metadata": {},
   "source": [
    "## Requests, récuprer le code d'un site web\n",
    "\n",
    "**requests** est un module python qui sert à faire des requêtes sur le web via les protocoles HTTP  \n",
    "\n",
    "Avec se module nous allons pouvoir récuperer le code HTML d'un site web via son URL"
   ]
  },
  {
   "cell_type": "markdown",
   "metadata": {},
   "source": [
    "Quelques méthodes de *`requests`*:\n",
    "\n",
    ">* *`.get('url')`* LA commande qui permet d'aller chercher via une URL le format brut HTML sous forme d'un objet \"HTTPResponse\" du module urllib3.  Possible argument *`auth=('username','password')`* si il y a besoins d'une authentification  \n",
    ">* *`.post`* permet d'envoyer des données vers le siteweb comme un *username* et un *psswd*  à travers un *`dict`*, ou même des img..\n",
    ">* *`sess = requests.Session()`*; puis  Pour effectuer plusieurs requêtes sur un site, qui permet de conserver les identification et les cookies pendant l'exécution de toutes les requêtes. L'objet *`Session`* ici *`sess`* possède toute les méthodes de `requests` dont *`.get`* par exemple."
   ]
  },
  {
   "cell_type": "markdown",
   "metadata": {},
   "source": [
    "On peut lire la réponse de *`.get`* avec:\n",
    ">* *`r.text`* Retourne le contenu en unicode\n",
    ">* *`r.content`* Retourne le contenu en bytes\n",
    ">* *`r.json`* Retourne le contenu sous forme json\n",
    ">* *`r.headers`* Retourne le headers sous forme de dictionnaire "
   ]
  },
  {
   "cell_type": "code",
   "execution_count": 15,
   "metadata": {
    "ExecuteTime": {
     "end_time": "2020-04-17T16:55:26.689387Z",
     "start_time": "2020-04-17T16:55:26.585933Z"
    }
   },
   "outputs": [],
   "source": [
    "html = requests.get('https://en.wikipedia.org/wiki/Main_Page') #auth=('username','password') si besoin"
   ]
  },
  {
   "cell_type": "code",
   "execution_count": 16,
   "metadata": {
    "ExecuteTime": {
     "end_time": "2020-04-17T16:55:44.529082Z",
     "start_time": "2020-04-17T16:55:44.526239Z"
    }
   },
   "outputs": [],
   "source": [
    "#html.headers"
   ]
  },
  {
   "cell_type": "markdown",
   "metadata": {},
   "source": [
    "## BeautifulSoup pour analyser le HTML  \n",
    "Començons par créer un Objet BeautfulSoup avec la réponse récupérée par *`.get()`* avec la méthode *`.content`* de *`requests`*, pour pouvoir ensuite utiliser toutes les méthodes d'analyse de HTML de BS.  \n",
    "On lui passe en arg *`html.parser`* pour lui signifier que c'est bien du html."
   ]
  },
  {
   "cell_type": "code",
   "execution_count": 14,
   "metadata": {
    "ExecuteTime": {
     "end_time": "2020-04-17T16:21:56.701202Z",
     "start_time": "2020-04-17T16:21:56.622121Z"
    }
   },
   "outputs": [],
   "source": [
    "soup = BeautifulSoup(html.content, \"html.parser\")"
   ]
  },
  {
   "cell_type": "markdown",
   "metadata": {},
   "source": [
    "Une fois le code HTML dans un objet BeatifuSoup on va pouvoir commencer à l'analyser avec différentes méthodes..  \n",
    "Un petit rappel sur ce que l'on peut identifier dans du HTML:\n",
    "\n",
    "- balises, attribut, valeur et le contenu .... entres autres"
   ]
  },
  {
   "cell_type": "markdown",
   "metadata": {},
   "source": [
    "voire le code HTML avec *`.prettify`*"
   ]
  },
  {
   "cell_type": "code",
   "execution_count": 67,
   "metadata": {
    "ExecuteTime": {
     "end_time": "2020-04-18T12:03:02.086445Z",
     "start_time": "2020-04-18T12:03:02.082120Z"
    }
   },
   "outputs": [],
   "source": [
    "#soup.prettify"
   ]
  },
  {
   "cell_type": "markdown",
   "metadata": {},
   "source": [
    "### Naviguer avec les balises (tags)"
   ]
  },
  {
   "cell_type": "markdown",
   "metadata": {},
   "source": [
    "<img src=\"img.png\"/>"
   ]
  },
  {
   "cell_type": "markdown",
   "metadata": {},
   "source": [
    "Quelques méthodes de BeautifulSoup pour accéder au contenu d'une page web:\n",
    ">- par Balises (tag) *`soup`*: *`.p`, `.a`, `.h1`,`.div`*, *`li`* ect... ou avec *`.find('a')`*\n",
    ">- puis Attribut id *`.tag.id`* ou *`.find('a', id='content')`*\n",
    ">- Attribut class *`.tag.class_`* ou *`find('a', class_='client')`*\n",
    ">- Attribut name *`.tag.attrs`* ou *`find('a', attrs{'name':'content'})`*  \n",
    "\n",
    ">- *`findAll` ou `find_all`* pour trouver les occurences d'un element, s'utilise comme *`.find`*"
   ]
  },
  {
   "cell_type": "code",
   "execution_count": 82,
   "metadata": {
    "ExecuteTime": {
     "end_time": "2020-04-18T12:13:58.132493Z",
     "start_time": "2020-04-18T12:13:58.124283Z"
    }
   },
   "outputs": [
    {
     "data": {
      "text/plain": [
       "<a href=\"/wiki/Abbasid_invasion_of_Asia_Minor_(806)\" title=\"Abbasid invasion of Asia Minor (806)\">Abbasid invasion of Asia Minor</a>"
      ]
     },
     "execution_count": 82,
     "metadata": {},
     "output_type": "execute_result"
    }
   ],
   "source": [
    "soup.p.a"
   ]
  },
  {
   "cell_type": "code",
   "execution_count": 63,
   "metadata": {
    "ExecuteTime": {
     "end_time": "2020-04-18T11:56:23.703220Z",
     "start_time": "2020-04-18T11:56:23.695501Z"
    }
   },
   "outputs": [
    {
     "data": {
      "text/plain": [
       "{'id': 'mw-page-base', 'class': ['noprint']}"
      ]
     },
     "execution_count": 63,
     "metadata": {},
     "output_type": "execute_result"
    }
   ],
   "source": [
    "soup.div.attrs"
   ]
  },
  {
   "cell_type": "code",
   "execution_count": 112,
   "metadata": {
    "ExecuteTime": {
     "end_time": "2020-04-18T12:23:14.867363Z",
     "start_time": "2020-04-18T12:23:14.860746Z"
    }
   },
   "outputs": [
    {
     "data": {
      "text/plain": [
       "<a id=\"top\"></a>"
      ]
     },
     "execution_count": 112,
     "metadata": {},
     "output_type": "execute_result"
    }
   ],
   "source": [
    "soup.find('a')"
   ]
  },
  {
   "cell_type": "markdown",
   "metadata": {},
   "source": [
    "- afficher les parents du tag *`p`*"
   ]
  },
  {
   "cell_type": "code",
   "execution_count": 76,
   "metadata": {
    "ExecuteTime": {
     "end_time": "2020-04-18T12:09:33.809195Z",
     "start_time": "2020-04-18T12:09:33.801235Z"
    },
    "collapsed": true
   },
   "outputs": [
    {
     "name": "stdout",
     "output_type": "stream",
     "text": [
      "div\n",
      "td\n",
      "tr\n",
      "tbody\n",
      "table\n",
      "div\n",
      "div\n",
      "div\n",
      "div\n",
      "body\n",
      "html\n",
      "[document]\n"
     ]
    }
   ],
   "source": [
    "for p in soup.p.parents:\n",
    "    print(p.name)"
   ]
  },
  {
   "cell_type": "markdown",
   "metadata": {},
   "source": [
    "- chercher les parents du tag *`.li`*"
   ]
  },
  {
   "cell_type": "code",
   "execution_count": null,
   "metadata": {},
   "outputs": [],
   "source": [
    "#for p in soup.li.parents:\n",
    "#    print(p)"
   ]
  },
  {
   "cell_type": "markdown",
   "metadata": {},
   "source": [
    "### Accéder au texte "
   ]
  },
  {
   "cell_type": "markdown",
   "metadata": {},
   "source": [
    ">- *`.text`*\n",
    ">- *`.string`*\n",
    ">- *`.get_text`*"
   ]
  },
  {
   "cell_type": "code",
   "execution_count": 96,
   "metadata": {
    "ExecuteTime": {
     "end_time": "2020-04-18T12:15:50.240978Z",
     "start_time": "2020-04-18T12:15:50.234901Z"
    }
   },
   "outputs": [
    {
     "data": {
      "text/plain": [
       "'Abbasid invasion of Asia Minor'"
      ]
     },
     "execution_count": 96,
     "metadata": {},
     "output_type": "execute_result"
    }
   ],
   "source": [
    "soup.p.a.string"
   ]
  },
  {
   "cell_type": "code",
   "execution_count": 106,
   "metadata": {
    "ExecuteTime": {
     "end_time": "2020-04-18T12:16:46.605944Z",
     "start_time": "2020-04-18T12:16:46.598678Z"
    }
   },
   "outputs": [
    {
     "data": {
      "text/plain": [
       "'The Abbasid invasion of Asia Minor in 806 CE was an attack by the Abbasid Caliphate against the Byzantine Empire in southeastern and central Asia Minor'"
      ]
     },
     "execution_count": 106,
     "metadata": {},
     "output_type": "execute_result"
    }
   ],
   "source": [
    "soup.p.text[:151]"
   ]
  },
  {
   "cell_type": "code",
   "execution_count": null,
   "metadata": {},
   "outputs": [],
   "source": []
  },
  {
   "cell_type": "markdown",
   "metadata": {},
   "source": [
    "## CSS selector  \n",
    ">- *`.select()`*"
   ]
  },
  {
   "cell_type": "code",
   "execution_count": null,
   "metadata": {},
   "outputs": [],
   "source": [
    "for link in soup.select(\".recipeLink > a\"):\n",
    "  webpage = requests.get(link)\n",
    "  new_soup = BeautifulSoup(webpage)"
   ]
  },
  {
   "cell_type": "code",
   "execution_count": null,
   "metadata": {},
   "outputs": [],
   "source": []
  },
  {
   "cell_type": "code",
   "execution_count": null,
   "metadata": {},
   "outputs": [],
   "source": []
  },
  {
   "cell_type": "code",
   "execution_count": 113,
   "metadata": {
    "ExecuteTime": {
     "end_time": "2020-04-18T12:27:56.693202Z",
     "start_time": "2020-04-18T12:27:56.677136Z"
    }
   },
   "outputs": [
    {
     "name": "stdout",
     "output_type": "stream",
     "text": [
      "/\n",
      "#mw-head\n",
      "#p-search\n",
      "/wiki/Wikipedia\n",
      "/wiki/Free_content\n",
      "/wiki/Encyclopedia\n",
      "/wiki/Wikipedia:Introduction\n",
      "/wiki/Special:Statistics\n",
      "/wiki/English_language\n",
      "/wiki/Portal:Arts\n",
      "/wiki/Portal:Biography\n",
      "/wiki/Portal:Geography\n",
      "/wiki/Portal:History\n",
      "/wiki/Portal:Mathematics\n",
      "/wiki/Portal:Science\n",
      "/wiki/Portal:Society\n",
      "/wiki/Portal:Technology\n",
      "/wiki/Wikipedia:Contents/Portals\n",
      "/wiki/File:Heraqla,SE.jpg\n",
      "/wiki/Abbasid_invasion_of_Asia_Minor_(806)\n",
      "/wiki/Abbasid_Caliphate\n",
      "/wiki/Byzantine_Empire\n",
      "/wiki/Anatolia\n",
      "/wiki/List_of_Byzantine_emperors\n",
      "/wiki/Nikephoros_I\n",
      "/wiki/Tribute\n",
      "/wiki/Harun_al-Rashid\n",
      "/wiki/List_of_Abbasid_caliphs\n",
      "/wiki/Heraclea_Cybistra\n",
      "/wiki/Jizya\n",
      "/wiki/Staurakios\n",
      "/wiki/Fourth_Fitna\n",
      "/wiki/Battle_of_Pliska\n",
      "/wiki/Abbasid_invasion_of_Asia_Minor_(806)\n",
      "/wiki/Vision_in_White\n",
      "/wiki/Horologium_(constellation)\n",
      "/wiki/Razing_of_Friesoythe\n",
      "/wiki/Wikipedia:Today%27s_featured_article/April_2020\n",
      "https://lists.wikimedia.org/mailman/listinfo/daily-article-l\n",
      "/wiki/Wikipedia:Featured_articles\n",
      "/wiki/File:Bessie_Van_Vorst.jpg\n",
      "/wiki/Bessie_Van_Vorst\n",
      "/wiki/Oxford_Circus\n",
      "/wiki/Cornell_University\n",
      "/wiki/Charles_Spencer_Francis\n",
      "/wiki/List_of_ambassadors_of_the_United_States_to_Austria\n",
      "/wiki/Single_scull\n",
      "/wiki/Provincial_Mental_Sanatorium_Kortau\n",
      "/wiki/Aktion_T4\n",
      "/wiki/Henry_Purcell\n",
      "/wiki/Thou_knowest,_Lord,_the_secrets_of_our_hearts_(Purcell)\n",
      "/wiki/Mary_II_of_England\n",
      "/wiki/Emilia_Clarke\n",
      "/wiki/Chicken_(dance)\n",
      "/wiki/Robot_(dance)\n",
      "/wiki/Game_of_Thrones\n",
      "/wiki/Caha_Mountains\n",
      "/wiki/County_Cork\n",
      "/wiki/Minuartia_recurva\n",
      "/wiki/Minuartia\n",
      "/wiki/Newyorkitis\n",
      "/wiki/YMCA\n",
      "/wiki/Wikipedia:Recent_additions\n",
      "/wiki/Help:Your_first_article\n",
      "/wiki/Template_talk:Did_you_know\n",
      "/wiki/2019%E2%80%9320_coronavirus_pandemic\n",
      "/wiki/Coronavirus_disease_2019\n",
      "/wiki/Severe_acute_respiratory_syndrome_coronavirus_2\n",
      "/wiki/COVID-19_testing\n",
      "/wiki/Timeline_of_the_2019%E2%80%9320_coronavirus_pandemic\n",
      "/wiki/Timeline_of_the_2019%E2%80%9320_coronavirus_pandemic_in_April_2020\n",
      "/wiki/2019%E2%80%9320_coronavirus_pandemic_by_country_and_territory\n",
      "/wiki/Socio-economic_impact_of_the_2019%E2%80%9320_coronavirus_pandemic\n",
      "/wiki/List_of_deaths_due_to_coronavirus_disease_2019\n",
      "/wiki/Portal:Coronavirus_disease_2019\n",
      "/wiki/File:Southeast_US_severe_weather_outbreak_2020-04-12_2156z.jpg\n",
      "/wiki/2020_Easter_tornado_outbreak\n",
      "/wiki/Southeastern_United_States\n",
      "/wiki/High_Court_of_Australia\n",
      "/wiki/George_Pell\n",
      "/wiki/Cyclone_Harold\n",
      "/wiki/Solomon_Islands\n",
      "/wiki/Vanuatu\n",
      "/wiki/Fiji\n",
      "/wiki/Tonga\n",
      "/wiki/Deaths_in_2020\n",
      "/wiki/Norman_Hunter_(footballer)\n",
      "/wiki/Joe_Brown_(climber)\n",
      "/wiki/Adam_Alsing\n",
      "/wiki/Kerstin_Meyer\n",
      "/wiki/Hank_Steinbrenner\n",
      "/wiki/Jacques_Blamont\n",
      "/wiki/Portal:Current_events\n",
      "/wiki/Wikipedia:In_the_news/Candidates\n",
      "/wiki/April_17\n",
      "/wiki/Evacuation_Day_(Syria)\n",
      "/wiki/1946\n",
      "/wiki/File:Kauno_pilis_2011_(cropped).jpg\n",
      "/wiki/1362\n",
      "/wiki/Lithuanian_Crusade\n",
      "/wiki/Siege_of_Kaunas\n",
      "/wiki/Teutonic_Order\n",
      "/wiki/Kaunas_Castle\n",
      "/wiki/Grand_Duchy_of_Lithuania\n",
      "/wiki/1797\n",
      "/wiki/French_Revolutionary_Wars\n",
      "/wiki/Ralph_Abercromby\n",
      "/wiki/Battle_of_San_Juan_(1797)\n",
      "/wiki/San_Juan,_Puerto_Rico\n",
      "/wiki/1869\n",
      "/wiki/Morelos\n",
      "/wiki/Jos%C3%A9_Mar%C3%ADa_Morelos\n",
      "/wiki/Siege_of_Cuautla\n",
      "/wiki/1951\n",
      "/wiki/Peak_District\n",
      "/wiki/National_parks_of_the_United_Kingdom\n",
      "/wiki/1975\n",
      "/wiki/Khmer_Rouge\n",
      "/wiki/Fall_of_Phnom_Penh\n",
      "/wiki/Phnom_Penh\n",
      "/wiki/Khmer_Republic\n",
      "/wiki/Cambodian_Civil_War\n",
      "/wiki/Democratic_Kampuchea\n",
      "/wiki/Bernard_of_Italy\n",
      "/wiki/Eliza_Acton\n",
      "/wiki/Vikram_(actor)\n",
      "/wiki/April_16\n",
      "/wiki/April_17\n",
      "/wiki/April_18\n",
      "/wiki/Wikipedia:Selected_anniversaries/April\n",
      "https://lists.wikimedia.org/mailman/listinfo/daily-article-l\n",
      "/wiki/List_of_historical_anniversaries\n",
      "/wiki/File:Peter_Dinklage_by_Gage_Skidmore.jpg\n",
      "/wiki/Game_of_Thrones\n",
      "/wiki/List_of_awards_and_nominations_received_by_Game_of_Thrones\n",
      "/wiki/David_Benioff\n",
      "/wiki/D._B._Weiss\n",
      "/wiki/HBO\n",
      "/wiki/George_R._R._Martin\n",
      "/wiki/A_Song_of_Ice_and_Fire\n",
      "/wiki/Golden_Globe_Awards\n",
      "/wiki/Writers_Guild_of_America_Awards\n",
      "/wiki/Producers_Guild_of_America_Award\n",
      "/wiki/Directors_Guild_of_America_Award\n",
      "/wiki/Screen_Actors_Guild_Award_for_Outstanding_Performance_by_an_Ensemble_in_a_Drama_Series\n",
      "/wiki/Peter_Dinklage\n",
      "/wiki/Tyrion_Lannister\n",
      "/wiki/Primetime_Emmy_Award_for_Outstanding_Supporting_Actor_in_a_Drama_Series\n",
      "/wiki/Golden_Globe_Award_for_Best_Supporting_Actor_%E2%80%93_Series,_Miniseries_or_Television_Film\n",
      "/wiki/List_of_awards_and_nominations_received_by_Game_of_Thrones\n",
      "/wiki/Premio_Lo_Nuestro_2014\n",
      "/wiki/List_of_World_Heritage_Sites_in_Denmark\n",
      "/wiki/Masters_Tournament_Par-3_contest\n",
      "/wiki/Wikipedia:Today%27s_featured_list/April_2020\n",
      "/wiki/Wikipedia:Featured_lists\n",
      "/wiki/File:Pterophorus_pentadactyla_MHNT.jpg\n",
      "/wiki/Pterophorus_pentadactyla\n",
      "/wiki/Moth\n",
      "/wiki/Pterophoridae\n",
      "/wiki/Convolvulaceae\n",
      "/wiki/Anatomical_terms_of_location#Dorsal_and_lateral\n",
      "/wiki/Sainte-Croix-Volvestre\n",
      "/wiki/Mus%C3%A9um_de_Toulouse\n",
      "/wiki/User:Archaeodontosaurus\n",
      "/wiki/Template:POTD/2020-04-16\n",
      "/wiki/Template:POTD/2020-04-15\n",
      "/wiki/Template:POTD/2020-04-14\n",
      "/wiki/Wikipedia:Picture_of_the_day/Archive\n",
      "/wiki/Wikipedia:Featured_pictures\n",
      "/wiki/Wikipedia:Community_portal\n",
      "/wiki/Wikipedia:Help_desk\n",
      "/wiki/Wikipedia:Local_Embassy\n",
      "/wiki/Wikipedia:Reference_desk\n",
      "/wiki/Wikipedia:News\n",
      "/wiki/Wikipedia:Village_pump\n",
      "/wiki/Wikimedia_Foundation\n",
      "https://wikimediafoundation.org/our-work/wikimedia-projects/\n",
      "https://commons.wikimedia.org/wiki/\n",
      "https://commons.wikimedia.org/\n",
      "https://www.mediawiki.org/wiki/\n",
      "https://mediawiki.org/\n",
      "https://meta.wikimedia.org/wiki/\n",
      "https://meta.wikimedia.org/\n",
      "https://en.wikibooks.org/wiki/\n",
      "https://en.wikibooks.org/\n",
      "https://www.wikidata.org/wiki/\n",
      "https://www.wikidata.org/\n",
      "https://en.wikinews.org/wiki/\n",
      "https://en.wikinews.org/\n",
      "https://en.wikiquote.org/wiki/\n",
      "https://en.wikiquote.org/\n",
      "https://en.wikisource.org/wiki/\n",
      "https://en.wikisource.org/\n",
      "https://species.wikimedia.org/wiki/\n",
      "https://species.wikimedia.org/\n",
      "https://en.wikiversity.org/wiki/\n",
      "https://en.wikiversity.org/\n",
      "https://en.wikivoyage.org/wiki/\n",
      "https://en.wikivoyage.org/\n",
      "https://en.wiktionary.org/wiki/\n",
      "https://en.wiktionary.org/\n",
      "/wiki/English_language\n",
      "/wiki/Special:Statistics\n",
      "https://ar.wikipedia.org/wiki/\n",
      "https://de.wikipedia.org/wiki/\n",
      "https://es.wikipedia.org/wiki/\n",
      "https://fr.wikipedia.org/wiki/\n",
      "https://it.wikipedia.org/wiki/\n",
      "https://nl.wikipedia.org/wiki/\n",
      "https://ja.wikipedia.org/wiki/\n",
      "https://pl.wikipedia.org/wiki/\n",
      "https://pt.wikipedia.org/wiki/\n",
      "https://ru.wikipedia.org/wiki/\n",
      "https://sv.wikipedia.org/wiki/\n",
      "https://uk.wikipedia.org/wiki/\n",
      "https://vi.wikipedia.org/wiki/\n",
      "https://zh.wikipedia.org/wiki/\n",
      "https://id.wikipedia.org/wiki/\n",
      "https://ms.wikipedia.org/wiki/\n",
      "https://bg.wikipedia.org/wiki/\n",
      "https://ca.wikipedia.org/wiki/\n",
      "https://cs.wikipedia.org/wiki/\n",
      "https://da.wikipedia.org/wiki/\n",
      "https://eo.wikipedia.org/wiki/\n",
      "https://eu.wikipedia.org/wiki/\n",
      "https://fa.wikipedia.org/wiki/\n",
      "https://he.wikipedia.org/wiki/\n",
      "https://ko.wikipedia.org/wiki/\n",
      "https://hu.wikipedia.org/wiki/\n",
      "https://no.wikipedia.org/wiki/\n",
      "https://ro.wikipedia.org/wiki/\n",
      "https://sr.wikipedia.org/wiki/\n",
      "https://sh.wikipedia.org/wiki/\n",
      "https://fi.wikipedia.org/wiki/\n",
      "https://tr.wikipedia.org/wiki/\n",
      "https://ast.wikipedia.org/wiki/\n",
      "https://bs.wikipedia.org/wiki/\n",
      "https://et.wikipedia.org/wiki/\n",
      "https://el.wikipedia.org/wiki/\n",
      "https://simple.wikipedia.org/wiki/\n",
      "https://gl.wikipedia.org/wiki/\n",
      "https://hr.wikipedia.org/wiki/\n",
      "https://lv.wikipedia.org/wiki/\n",
      "https://lt.wikipedia.org/wiki/\n",
      "https://ml.wikipedia.org/wiki/\n",
      "https://nn.wikipedia.org/wiki/\n",
      "https://sk.wikipedia.org/wiki/\n",
      "https://sl.wikipedia.org/wiki/\n",
      "https://th.wikipedia.org/wiki/\n",
      "https://meta.wikimedia.org/wiki/List_of_Wikipedias\n",
      "https://en.wikipedia.org/w/index.php?title=Main_Page&oldid=939357440\n",
      "/wiki/Special:MyTalk\n",
      "/wiki/Special:MyContributions\n",
      "/w/index.php?title=Special:CreateAccount&returnto=Main+Page\n",
      "/w/index.php?title=Special:UserLogin&returnto=Main+Page\n",
      "/wiki/Main_Page\n",
      "/wiki/Talk:Main_Page\n",
      "/wiki/Main_Page\n",
      "/w/index.php?title=Main_Page&action=edit\n",
      "/w/index.php?title=Main_Page&action=history\n",
      "/wiki/Main_Page\n",
      "/wiki/Main_Page\n",
      "/wiki/Wikipedia:Contents\n",
      "/wiki/Wikipedia:Featured_content\n",
      "/wiki/Portal:Current_events\n",
      "/wiki/Special:Random\n",
      "https://donate.wikimedia.org/wiki/Special:FundraiserRedirector?utm_source=donate&utm_medium=sidebar&utm_campaign=C13_en.wikipedia.org&uselang=en\n",
      "//shop.wikimedia.org\n",
      "/wiki/Help:Contents\n",
      "/wiki/Wikipedia:About\n",
      "/wiki/Wikipedia:Community_portal\n",
      "/wiki/Special:RecentChanges\n",
      "//en.wikipedia.org/wiki/Wikipedia:Contact_us\n",
      "/wiki/Special:WhatLinksHere/Main_Page\n",
      "/wiki/Special:RecentChangesLinked/Main_Page\n",
      "/wiki/Wikipedia:File_Upload_Wizard\n",
      "/wiki/Special:SpecialPages\n",
      "/w/index.php?title=Main_Page&oldid=939357440\n",
      "/w/index.php?title=Main_Page&action=info\n",
      "https://www.wikidata.org/wiki/Special:EntityPage/Q5296\n",
      "/w/index.php?title=Special:CiteThisPage&page=Main_Page&id=939357440&wpFormIdentifier=titleform\n",
      "https://commons.wikimedia.org/wiki/Main_Page\n",
      "https://www.mediawiki.org/wiki/MediaWiki\n",
      "https://meta.wikimedia.org/wiki/Main_Page\n",
      "https://species.wikimedia.org/wiki/Main_Page\n",
      "https://en.wikibooks.org/wiki/Main_Page\n",
      "https://www.wikidata.org/wiki/Wikidata:Main_Page\n",
      "https://wikimania.wikimedia.org/wiki/Wikimania\n",
      "https://en.wikinews.org/wiki/Main_Page\n",
      "https://en.wikiquote.org/wiki/Main_Page\n",
      "https://en.wikisource.org/wiki/Main_Page\n",
      "https://en.wikiversity.org/wiki/Wikiversity:Main_Page\n",
      "https://en.wikivoyage.org/wiki/Main_Page\n",
      "https://en.wiktionary.org/wiki/Wiktionary:Main_Page\n",
      "/w/index.php?title=Special:Book&bookcmd=book_creator&referer=Main+Page\n",
      "/w/index.php?title=Special:ElectronPdf&page=Main+Page&action=show-download-screen\n",
      "/w/index.php?title=Main_Page&printable=yes\n",
      "https://ar.wikipedia.org/wiki/\n",
      "https://bg.wikipedia.org/wiki/\n",
      "https://bs.wikipedia.org/wiki/\n",
      "https://ca.wikipedia.org/wiki/\n",
      "https://cs.wikipedia.org/wiki/\n",
      "https://da.wikipedia.org/wiki/\n",
      "https://de.wikipedia.org/wiki/\n",
      "https://et.wikipedia.org/wiki/\n",
      "https://el.wikipedia.org/wiki/\n",
      "https://es.wikipedia.org/wiki/\n",
      "https://eo.wikipedia.org/wiki/\n",
      "https://eu.wikipedia.org/wiki/\n",
      "https://fa.wikipedia.org/wiki/\n",
      "https://fr.wikipedia.org/wiki/\n",
      "https://gl.wikipedia.org/wiki/\n",
      "https://ko.wikipedia.org/wiki/\n",
      "https://hr.wikipedia.org/wiki/\n",
      "https://id.wikipedia.org/wiki/\n",
      "https://it.wikipedia.org/wiki/\n",
      "https://he.wikipedia.org/wiki/\n",
      "https://ka.wikipedia.org/wiki/\n",
      "https://lv.wikipedia.org/wiki/\n",
      "https://lt.wikipedia.org/wiki/\n",
      "https://hu.wikipedia.org/wiki/\n",
      "https://ms.wikipedia.org/wiki/\n",
      "https://nl.wikipedia.org/wiki/\n",
      "https://ja.wikipedia.org/wiki/\n",
      "https://no.wikipedia.org/wiki/\n",
      "https://nn.wikipedia.org/wiki/\n",
      "https://pl.wikipedia.org/wiki/\n",
      "https://pt.wikipedia.org/wiki/\n",
      "https://ro.wikipedia.org/wiki/\n",
      "https://ru.wikipedia.org/wiki/\n",
      "https://simple.wikipedia.org/wiki/\n",
      "https://sk.wikipedia.org/wiki/\n",
      "https://sl.wikipedia.org/wiki/\n",
      "https://sr.wikipedia.org/wiki/\n",
      "https://sh.wikipedia.org/wiki/\n",
      "https://fi.wikipedia.org/wiki/\n",
      "https://sv.wikipedia.org/wiki/\n",
      "https://th.wikipedia.org/wiki/\n",
      "https://tr.wikipedia.org/wiki/\n",
      "https://uk.wikipedia.org/wiki/\n",
      "https://vi.wikipedia.org/wiki/\n",
      "https://zh.wikipedia.org/wiki/\n",
      "//en.wikipedia.org/wiki/Wikipedia:Text_of_Creative_Commons_Attribution-ShareAlike_3.0_Unported_License\n",
      "//creativecommons.org/licenses/by-sa/3.0/\n",
      "//foundation.wikimedia.org/wiki/Terms_of_Use\n",
      "//foundation.wikimedia.org/wiki/Privacy_policy\n",
      "//www.wikimediafoundation.org/\n",
      "https://foundation.wikimedia.org/wiki/Privacy_policy\n",
      "/wiki/Wikipedia:About\n",
      "/wiki/Wikipedia:General_disclaimer\n",
      "//en.wikipedia.org/wiki/Wikipedia:Contact_us\n",
      "https://www.mediawiki.org/wiki/Special:MyLanguage/How_to_contribute\n",
      "https://stats.wikimedia.org/#/en.wikipedia.org\n",
      "https://foundation.wikimedia.org/wiki/Cookie_statement\n",
      "//en.m.wikipedia.org/w/index.php?title=Main_Page&mobileaction=toggle_view_mobile\n",
      "https://wikimediafoundation.org/\n",
      "https://www.mediawiki.org/\n"
     ]
    }
   ],
   "source": [
    "#soup.find_all('a')[1].attrs\n",
    "for e in soup.find_all('a'):\n",
    "    print(e.get('href', '/'))"
   ]
  },
  {
   "cell_type": "markdown",
   "metadata": {},
   "source": [
    "## références\n",
    "**Requests**\n",
    "- http://fr.python-requests.org/en/latest/user/quickstart.html#requetes-post-avancees\n",
    "- https://requests-fr.readthedocs.io/en/latest/user/advanced.html\n",
    "- http://dridk.me/python-requests.html"
   ]
  },
  {
   "cell_type": "markdown",
   "metadata": {},
   "source": [
    "**BeautifulSoup**\n",
    "- http://jhroy.ca/uqam/edm5240/BeautifulSoup-DocAbregee.pdf\n",
    "- http://sametmax.com/parser-du-html-avec-beautifulsoup/\n",
    "\n",
    "- https://www.crummy.com/software/BeautifulSoup/bs4/doc/  (doc officiel)\n"
   ]
  }
 ],
 "metadata": {
  "hide_input": false,
  "kernelspec": {
   "display_name": "Python 3",
   "language": "python",
   "name": "python3"
  },
  "language_info": {
   "codemirror_mode": {
    "name": "ipython",
    "version": 3
   },
   "file_extension": ".py",
   "mimetype": "text/x-python",
   "name": "python",
   "nbconvert_exporter": "python",
   "pygments_lexer": "ipython3",
   "version": "3.7.4"
  },
  "latex_envs": {
   "LaTeX_envs_menu_present": true,
   "autoclose": false,
   "autocomplete": true,
   "bibliofile": "biblio.bib",
   "cite_by": "apalike",
   "current_citInitial": 1,
   "eqLabelWithNumbers": true,
   "eqNumInitial": 1,
   "hotkeys": {
    "equation": "Ctrl-E",
    "itemize": "Ctrl-I"
   },
   "labels_anchors": false,
   "latex_user_defs": false,
   "report_style_numbering": false,
   "user_envs_cfg": false
  },
  "toc": {
   "base_numbering": 1,
   "nav_menu": {},
   "number_sections": true,
   "sideBar": true,
   "skip_h1_title": false,
   "title_cell": "Table of Contents",
   "title_sidebar": "Contents",
   "toc_cell": false,
   "toc_position": {},
   "toc_section_display": true,
   "toc_window_display": false
  }
 },
 "nbformat": 4,
 "nbformat_minor": 2
}
