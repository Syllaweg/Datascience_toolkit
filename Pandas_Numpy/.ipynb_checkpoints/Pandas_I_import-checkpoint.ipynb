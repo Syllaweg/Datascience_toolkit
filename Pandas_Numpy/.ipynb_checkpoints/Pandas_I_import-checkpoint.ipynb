{
 "cells": [
  {
   "cell_type": "markdown",
   "metadata": {},
   "source": [
    "# _Pandas I_\n",
    "***Import and Create***"
   ]
  },
  {
   "cell_type": "code",
   "execution_count": 4,
   "metadata": {
    "ExecuteTime": {
     "end_time": "2020-04-07T22:53:52.939475Z",
     "start_time": "2020-04-07T22:53:51.361008Z"
    }
   },
   "outputs": [],
   "source": [
    "import pandas as pd"
   ]
  },
  {
   "cell_type": "markdown",
   "metadata": {},
   "source": [
    "## *Importer*"
   ]
  },
  {
   "cell_type": "markdown",
   "metadata": {},
   "source": [
    "### Importer avec Python"
   ]
  },
  {
   "cell_type": "markdown",
   "metadata": {},
   "source": [
    "Avec Python on import un fichier avec *`open`*  \n",
    "\n",
    "Le mieux est d'utiliser *`with`* qui est un \"*context manager*\", comme un décorateur, il va nous déconnecter automatiquement au fichier en lecture, pas besoin de d'utiliser _`.close()`_"
   ]
  },
  {
   "cell_type": "markdown",
   "metadata": {},
   "source": [
    "L'objet *`open`* possède plusieurs méthode pour utiliser un fichier:\n",
    ">- *`.read()`* pour voire et lire le fichier\n",
    ">- *`.readline()`* Pour lire juste une ligne\n",
    ">- *`.closed`* Vérifier si la connection à bien été close entre l'objet et le fichier\n",
    ">- *`.close()`* pour deconnecter l'objet au fichier\n",
    "***\n",
    "Le paramètre *`mode=`* peut prendre:  \n",
    "   - *`'w'`* pour \"Wright\" et ouvrir le fichier pour le modifier\n",
    "   - *`'r'`* \"Read\" simplement pour le lire  \n",
    "   \n",
    "Le paramètre *`encoding=`* On passer selon les fichiers différents encodage pour permettre la bonne lecture comme , *`'utf_8'`*, *`'latin_1'`* ou *`'ASCII'`*\n",
    "   \n",
    "***    "
   ]
  },
  {
   "cell_type": "markdown",
   "metadata": {
    "ExecuteTime": {
     "end_time": "2020-04-07T23:22:24.802113Z",
     "start_time": "2020-04-07T23:22:24.796877Z"
    }
   },
   "source": [
    "- Avec *`with`*, utliseation recommander"
   ]
  },
  {
   "cell_type": "code",
   "execution_count": null,
   "metadata": {},
   "outputs": [],
   "source": [
    "with open('textfile.txt', mode='w') as file:\n",
    "# on place l'objet open avec textfile dans file\n",
    "\n",
    "    print(file.readline())# pour visualiser juste 1 ligne"
   ]
  },
  {
   "cell_type": "markdown",
   "metadata": {
    "ExecuteTime": {
     "end_time": "2020-04-07T23:24:33.484516Z",
     "start_time": "2020-04-07T23:24:33.478597Z"
    }
   },
   "source": [
    "- Juste *`open`*, on va devoir deconnecter le fichier à la fin "
   ]
  },
  {
   "cell_type": "code",
   "execution_count": 11,
   "metadata": {
    "ExecuteTime": {
     "end_time": "2020-04-07T23:26:34.137655Z",
     "start_time": "2020-04-07T23:26:34.032075Z"
    },
    "collapsed": true
   },
   "outputs": [
    {
     "ename": "FileNotFoundError",
     "evalue": "[Errno 2] No such file or directory: 'textfile.txt'",
     "output_type": "error",
     "traceback": [
      "\u001b[0;31m---------------------------------------------------------------------------\u001b[0m",
      "\u001b[0;31mFileNotFoundError\u001b[0m                         Traceback (most recent call last)",
      "\u001b[0;32m<ipython-input-11-2a2b547a4295>\u001b[0m in \u001b[0;36m<module>\u001b[0;34m\u001b[0m\n\u001b[0;32m----> 1\u001b[0;31m \u001b[0mfile\u001b[0m \u001b[0;34m=\u001b[0m \u001b[0mopen\u001b[0m\u001b[0;34m(\u001b[0m\u001b[0;34m'textfile.txt'\u001b[0m\u001b[0;34m,\u001b[0m \u001b[0mmode\u001b[0m\u001b[0;34m=\u001b[0m\u001b[0;34m'r'\u001b[0m\u001b[0;34m)\u001b[0m\u001b[0;34m\u001b[0m\u001b[0;34m\u001b[0m\u001b[0m\n\u001b[0m\u001b[1;32m      2\u001b[0m \u001b[0;34m\u001b[0m\u001b[0m\n\u001b[1;32m      3\u001b[0m \u001b[0mprint\u001b[0m\u001b[0;34m(\u001b[0m\u001b[0mfile\u001b[0m\u001b[0;34m.\u001b[0m\u001b[0mread\u001b[0m\u001b[0;34m(\u001b[0m\u001b[0;34m)\u001b[0m\u001b[0;34m)\u001b[0m  \u001b[0;31m# print et lecture du fichier\u001b[0m\u001b[0;34m\u001b[0m\u001b[0;34m\u001b[0m\u001b[0m\n\u001b[1;32m      4\u001b[0m \u001b[0;34m\u001b[0m\u001b[0m\n\u001b[1;32m      5\u001b[0m \u001b[0mfile\u001b[0m\u001b[0;34m.\u001b[0m\u001b[0mclose\u001b[0m\u001b[0;34m(\u001b[0m\u001b[0;34m)\u001b[0m  \u001b[0;31m# ferme la connection\u001b[0m\u001b[0;34m\u001b[0m\u001b[0;34m\u001b[0m\u001b[0m\n",
      "\u001b[0;31mFileNotFoundError\u001b[0m: [Errno 2] No such file or directory: 'textfile.txt'"
     ]
    }
   ],
   "source": [
    "file = open('textfile.txt', mode='r')\n",
    "\n",
    "print(file.read())  # print et lecture du fichier\n",
    "\n",
    "file.close()  # ferme la connection\n",
    "\n",
    "print(file.closed)  # Check si la connection est bien fermé\n"
   ]
  },
  {
   "cell_type": "markdown",
   "metadata": {},
   "source": [
    "### Importer avec Pandas"
   ]
  },
  {
   "cell_type": "markdown",
   "metadata": {},
   "source": [
    "*`pd.read_csv()`*  est la principal manière d'importer des données *\"Flat\"* avec *Pandas*, on lui passe un \".csv\" ou un autre type de fichier comme \".txt\" et il nous renverra un Dataframe.  \n",
    "\n",
    "On peut lui passer beaucoup d'arguments très pratique qui vont influer sur le DF qui en resultera et permettra ou non d'ouvrir le document.  \n",
    "Par exemple:\n",
    "- *`delimiter=`* *`,`*, '\\t' pour tab, ou `' '`pour les espaces, dépendra de la manière dont est construit le document, si les valeurs des lignes ou les colonnes sont séparés à par des virgules, des espaces, ect...   \n"
   ]
  },
  {
   "cell_type": "code",
   "execution_count": null,
   "metadata": {},
   "outputs": [],
   "source": [
    "file = 'file.txt'\n",
    "\n",
    "data = pd.read_csv(file, delimiter='\\t', comment='#', na_values='Nothing')"
   ]
  },
  {
   "cell_type": "markdown",
   "metadata": {},
   "source": [
    "## Convertir un Dataframe en Numpy Array  \n",
    "On peut appeller l'attribut *`.values`* qui va convertir le *DF* en *numpy array*"
   ]
  },
  {
   "cell_type": "code",
   "execution_count": null,
   "metadata": {},
   "outputs": [],
   "source": [
    "n_array = df.values "
   ]
  },
  {
   "cell_type": "markdown",
   "metadata": {},
   "source": [
    "attention car les *numpy array* ne peuvent pas toujours prendre des type de données différentes sur un même *array*"
   ]
  },
  {
   "cell_type": "markdown",
   "metadata": {},
   "source": [
    "## Créer un Dataframe \n",
    "\n",
    "Il est possible de créer un Dataframe à partir d'un dictionnaire ou d'une liste"
   ]
  },
  {
   "cell_type": "markdown",
   "metadata": {},
   "source": [
    "- **Un dictionnaire:**  \n",
    "Les clefs correspondent aux colonnes et les valeurs aux lignes "
   ]
  },
  {
   "cell_type": "code",
   "execution_count": 5,
   "metadata": {
    "ExecuteTime": {
     "end_time": "2020-04-07T22:53:58.623411Z",
     "start_time": "2020-04-07T22:53:58.618513Z"
    }
   },
   "outputs": [],
   "source": [
    "data = {'nom':['Anthony', 'Maria'], \n",
    "        'age':[30, 28]}"
   ]
  },
  {
   "cell_type": "code",
   "execution_count": 6,
   "metadata": {
    "ExecuteTime": {
     "end_time": "2020-04-07T22:53:59.106280Z",
     "start_time": "2020-04-07T22:53:59.101797Z"
    }
   },
   "outputs": [],
   "source": [
    "df= pd.DataFrame(data)"
   ]
  },
  {
   "cell_type": "markdown",
   "metadata": {},
   "source": [
    "- **Une liste:**  \n",
    "Une liste de liste toujours  [[...], [..]], pour chaque lignes"
   ]
  },
  {
   "cell_type": "code",
   "execution_count": 7,
   "metadata": {
    "ExecuteTime": {
     "end_time": "2020-04-07T22:54:00.453903Z",
     "start_time": "2020-04-07T22:54:00.448541Z"
    }
   },
   "outputs": [],
   "source": [
    "dataListe = [['Tom', 20, 'bleue'], ['Jack', 30, 'bleue'], ['Marie', 20, 'rose'], ['Nono', 50, 'rose']]"
   ]
  },
  {
   "cell_type": "markdown",
   "metadata": {},
   "source": [
    "* On transforme la liste en Dataframe, en lui passant le nom des colonnes.  \n",
    "Syntaxe: ***df = pd.dataframe(list_ligne, columns = ['col_name',' ..'])***"
   ]
  },
  {
   "cell_type": "code",
   "execution_count": 8,
   "metadata": {
    "ExecuteTime": {
     "end_time": "2020-04-07T22:54:02.810397Z",
     "start_time": "2020-04-07T22:54:02.801235Z"
    }
   },
   "outputs": [],
   "source": [
    "df1= pd.DataFrame(dataListe, columns= ['Name', 'Age', 'Couleur_favorite'])"
   ]
  },
  {
   "cell_type": "markdown",
   "metadata": {},
   "source": [
    "## Créer un CSV\n",
    "_Comma Separate Variables_"
   ]
  },
  {
   "cell_type": "markdown",
   "metadata": {},
   "source": [
    "Un CSV suit la nommenclature suivante:\n",
    "\n",
    "_`column1,column2,column3  \n",
    "value1,value2,value3  \n",
    "value11, value22, value33`_\n",
    "\n",
    "On passe simplement à la ligne suivante pour créer notre tableau,  \n",
    "la première étant les colonnes...  \n",
    "puis les lignes de valeurs, séparé par des virgules.\n",
    "\n",
    "_`df.to_csv('file_name.csv')`_\n",
    "Pour créer un CSV depuis un Dataframe\n",
    "\n",
    "_`pd.read_csv('csv-file.csv')`_\n",
    "Pour passer un CSV en Dataframe"
   ]
  },
  {
   "cell_type": "markdown",
   "metadata": {},
   "source": [
    "## Références"
   ]
  },
  {
   "cell_type": "markdown",
   "metadata": {},
   "source": [
    "- https://datatofish.com/import-csv-file-python-using-pandas/"
   ]
  }
 ],
 "metadata": {
  "hide_input": false,
  "kernelspec": {
   "display_name": "Python 3",
   "language": "python",
   "name": "python3"
  },
  "language_info": {
   "codemirror_mode": {
    "name": "ipython",
    "version": 3
   },
   "file_extension": ".py",
   "mimetype": "text/x-python",
   "name": "python",
   "nbconvert_exporter": "python",
   "pygments_lexer": "ipython3",
   "version": "3.7.4"
  },
  "latex_envs": {
   "LaTeX_envs_menu_present": true,
   "autoclose": false,
   "autocomplete": true,
   "bibliofile": "biblio.bib",
   "cite_by": "apalike",
   "current_citInitial": 1,
   "eqLabelWithNumbers": true,
   "eqNumInitial": 1,
   "hotkeys": {
    "equation": "Ctrl-E",
    "itemize": "Ctrl-I"
   },
   "labels_anchors": false,
   "latex_user_defs": false,
   "report_style_numbering": false,
   "user_envs_cfg": false
  },
  "toc": {
   "base_numbering": 1,
   "nav_menu": {},
   "number_sections": true,
   "sideBar": true,
   "skip_h1_title": false,
   "title_cell": "Table of Contents",
   "title_sidebar": "Contents",
   "toc_cell": false,
   "toc_position": {},
   "toc_section_display": true,
   "toc_window_display": false
  }
 },
 "nbformat": 4,
 "nbformat_minor": 2
}
