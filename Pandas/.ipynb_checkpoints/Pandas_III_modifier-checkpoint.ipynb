{
 "cells": [
  {
   "cell_type": "markdown",
   "metadata": {},
   "source": [
    "# _Pandas III_\n",
    "___Modifier un DataFrame___"
   ]
  },
  {
   "cell_type": "code",
   "execution_count": 5,
   "metadata": {
    "ExecuteTime": {
     "end_time": "2020-04-05T11:49:20.159860Z",
     "start_time": "2020-04-05T11:49:20.155275Z"
    }
   },
   "outputs": [],
   "source": [
    "import pandas as pd"
   ]
  },
  {
   "cell_type": "markdown",
   "metadata": {},
   "source": [
    "* Le DataFrame de base"
   ]
  },
  {
   "cell_type": "code",
   "execution_count": 20,
   "metadata": {
    "ExecuteTime": {
     "end_time": "2020-04-05T12:27:18.130385Z",
     "start_time": "2020-04-05T12:27:18.118187Z"
    }
   },
   "outputs": [
    {
     "data": {
      "text/html": [
       "<div>\n",
       "<style scoped>\n",
       "    .dataframe tbody tr th:only-of-type {\n",
       "        vertical-align: middle;\n",
       "    }\n",
       "\n",
       "    .dataframe tbody tr th {\n",
       "        vertical-align: top;\n",
       "    }\n",
       "\n",
       "    .dataframe thead th {\n",
       "        text-align: right;\n",
       "    }\n",
       "</style>\n",
       "<table border=\"1\" class=\"dataframe\">\n",
       "  <thead>\n",
       "    <tr style=\"text-align: right;\">\n",
       "      <th></th>\n",
       "      <th>Name</th>\n",
       "      <th>Age</th>\n",
       "      <th>Couleur_favorite</th>\n",
       "    </tr>\n",
       "  </thead>\n",
       "  <tbody>\n",
       "    <tr>\n",
       "      <td>0</td>\n",
       "      <td>Tom</td>\n",
       "      <td>20</td>\n",
       "      <td>bleue</td>\n",
       "    </tr>\n",
       "    <tr>\n",
       "      <td>1</td>\n",
       "      <td>Jack</td>\n",
       "      <td>30</td>\n",
       "      <td>bleue</td>\n",
       "    </tr>\n",
       "    <tr>\n",
       "      <td>2</td>\n",
       "      <td>Marie</td>\n",
       "      <td>20</td>\n",
       "      <td>rose</td>\n",
       "    </tr>\n",
       "    <tr>\n",
       "      <td>3</td>\n",
       "      <td>Nono</td>\n",
       "      <td>50</td>\n",
       "      <td>rose</td>\n",
       "    </tr>\n",
       "  </tbody>\n",
       "</table>\n",
       "</div>"
      ],
      "text/plain": [
       "    Name  Age Couleur_favorite\n",
       "0    Tom   20            bleue\n",
       "1   Jack   30            bleue\n",
       "2  Marie   20             rose\n",
       "3   Nono   50             rose"
      ]
     },
     "execution_count": 20,
     "metadata": {},
     "output_type": "execute_result"
    }
   ],
   "source": [
    "dataListe = [['Tom', 20, 'bleue'], ['Jack', 30, 'bleue'], ['Marie', 20, 'rose'], ['Nono', 50, 'rose']]\n",
    "df= pd.DataFrame(dataListe, columns= ['Name', 'Age', 'Couleur_favorite'])\n",
    "df"
   ]
  },
  {
   "cell_type": "markdown",
   "metadata": {},
   "source": [
    "## *Ajouter une colonne*\n",
    "Add columns"
   ]
  },
  {
   "cell_type": "markdown",
   "metadata": {},
   "source": [
    "* Rajoute une col *'Email'*, remplie par une *`list`* "
   ]
  },
  {
   "cell_type": "code",
   "execution_count": 22,
   "metadata": {
    "ExecuteTime": {
     "end_time": "2020-04-05T12:27:23.948077Z",
     "start_time": "2020-04-05T12:27:23.942401Z"
    }
   },
   "outputs": [],
   "source": [
    "df['Email'] = ['Tomy.Tom@gmail.com', 'Polo.Jack@gmail.com', 'Bouchon.Marie@gmail.com', 'Damiens.Nono@gmail.com']"
   ]
  },
  {
   "cell_type": "markdown",
   "metadata": {},
   "source": [
    "* Si on ne précise pas, on rajoute à toute les col la même valeurs"
   ]
  },
  {
   "cell_type": "code",
   "execution_count": 23,
   "metadata": {
    "ExecuteTime": {
     "end_time": "2020-04-05T12:27:24.379097Z",
     "start_time": "2020-04-05T12:27:24.374284Z"
    }
   },
   "outputs": [],
   "source": [
    "df['Age_Retraite'] = 50"
   ]
  },
  {
   "cell_type": "markdown",
   "metadata": {},
   "source": [
    "###### Opérer sur des colonnes pour en créer une nouvelle"
   ]
  },
  {
   "cell_type": "markdown",
   "metadata": {
    "ExecuteTime": {
     "end_time": "2020-04-05T12:31:31.854266Z",
     "start_time": "2020-04-05T12:31:31.836645Z"
    }
   },
   "source": [
    "* Créé une col et la remplie à partir de l'opération sur d'autres col, ici on soustrait les val de 2 col pour remplir celle nouvellement créé"
   ]
  },
  {
   "cell_type": "code",
   "execution_count": 24,
   "metadata": {
    "ExecuteTime": {
     "end_time": "2020-04-05T12:27:24.812298Z",
     "start_time": "2020-04-05T12:27:24.807272Z"
    }
   },
   "outputs": [],
   "source": [
    "df['Tps_avant_retraite'] = df.Age_Retraite - df.Age"
   ]
  },
  {
   "cell_type": "markdown",
   "metadata": {},
   "source": [
    "* Créée la col *'Travaille'*, on la remplie en s'appuyant sur la col *'Age'*  \n",
    "On `.apply()` sur *'Age'* une *`lambda`* qui renvoie 'oui' si la valeur dans *'Age'* est inférieur à 50 sinon 'non' "
   ]
  },
  {
   "cell_type": "markdown",
   "metadata": {},
   "source": [
    "###### Utliser une *`lambda`* pour créer une colonne"
   ]
  },
  {
   "cell_type": "code",
   "execution_count": 25,
   "metadata": {
    "ExecuteTime": {
     "end_time": "2020-04-05T12:27:26.066779Z",
     "start_time": "2020-04-05T12:27:26.061666Z"
    }
   },
   "outputs": [],
   "source": [
    "df['Travaille'] = df.Age.apply(lambda x: 'oui' if x < 50 else 'non') "
   ]
  },
  {
   "cell_type": "markdown",
   "metadata": {},
   "source": [
    "* Col ou l'on récupère le Nom de famille dans les 'Emails'  \n",
    "*`split()`* le *`str`* présent dans _'Emails'_ au niveau des '.' et on récupère le 1er élément `[0]``"
   ]
  },
  {
   "cell_type": "code",
   "execution_count": 26,
   "metadata": {
    "ExecuteTime": {
     "end_time": "2020-04-05T12:27:28.547755Z",
     "start_time": "2020-04-05T12:27:28.541977Z"
    }
   },
   "outputs": [],
   "source": [
    "df['Nom'] = df.Email.apply(lambda x: x.split('.')[0])"
   ]
  },
  {
   "cell_type": "markdown",
   "metadata": {},
   "source": [
    "* Une col *'Description'* remplie à partir des autres col  \n",
    "On lui passe *`axis=1`* car on veut que la varb de la *`lambda`* *'row'* passe sur toutes les lignes et non juste sur une col(qui serait alors 'axis=0')"
   ]
  },
  {
   "cell_type": "code",
   "execution_count": 36,
   "metadata": {
    "ExecuteTime": {
     "end_time": "2020-04-05T12:57:53.175106Z",
     "start_time": "2020-04-05T12:57:53.169501Z"
    }
   },
   "outputs": [],
   "source": [
    "df['description'] = df.apply(lambda row: \"{} {} est à {} années de la retraite\"\\\n",
    "    .format(row.Name,\n",
    "            row.Nom,\n",
    "            row.Tps_avant_retraite),\n",
    "    axis=1)"
   ]
  },
  {
   "cell_type": "markdown",
   "metadata": {},
   "source": [
    "***\n",
    "le résultats de toutes ces colonnes ajoutés"
   ]
  },
  {
   "cell_type": "code",
   "execution_count": 37,
   "metadata": {
    "ExecuteTime": {
     "end_time": "2020-04-05T12:57:58.269691Z",
     "start_time": "2020-04-05T12:57:58.254830Z"
    }
   },
   "outputs": [
    {
     "data": {
      "text/html": [
       "<div>\n",
       "<style scoped>\n",
       "    .dataframe tbody tr th:only-of-type {\n",
       "        vertical-align: middle;\n",
       "    }\n",
       "\n",
       "    .dataframe tbody tr th {\n",
       "        vertical-align: top;\n",
       "    }\n",
       "\n",
       "    .dataframe thead th {\n",
       "        text-align: right;\n",
       "    }\n",
       "</style>\n",
       "<table border=\"1\" class=\"dataframe\">\n",
       "  <thead>\n",
       "    <tr style=\"text-align: right;\">\n",
       "      <th></th>\n",
       "      <th>Name</th>\n",
       "      <th>Age</th>\n",
       "      <th>Couleur_favorite</th>\n",
       "      <th>Email</th>\n",
       "      <th>Age_Retraite</th>\n",
       "      <th>Tps_avant_retraite</th>\n",
       "      <th>Travaille</th>\n",
       "      <th>Nom</th>\n",
       "      <th>description</th>\n",
       "    </tr>\n",
       "  </thead>\n",
       "  <tbody>\n",
       "    <tr>\n",
       "      <td>0</td>\n",
       "      <td>Tom</td>\n",
       "      <td>20</td>\n",
       "      <td>bleue</td>\n",
       "      <td>Tomy.Tom@gmail.com</td>\n",
       "      <td>50</td>\n",
       "      <td>30</td>\n",
       "      <td>oui</td>\n",
       "      <td>Tomy</td>\n",
       "      <td>Tom Tomy est à 30 années de la retraite</td>\n",
       "    </tr>\n",
       "    <tr>\n",
       "      <td>1</td>\n",
       "      <td>Jack</td>\n",
       "      <td>30</td>\n",
       "      <td>bleue</td>\n",
       "      <td>Polo.Jack@gmail.com</td>\n",
       "      <td>50</td>\n",
       "      <td>20</td>\n",
       "      <td>oui</td>\n",
       "      <td>Polo</td>\n",
       "      <td>Jack Polo est à 20 années de la retraite</td>\n",
       "    </tr>\n",
       "    <tr>\n",
       "      <td>2</td>\n",
       "      <td>Marie</td>\n",
       "      <td>20</td>\n",
       "      <td>rose</td>\n",
       "      <td>Bouchon.Marie@gmail.com</td>\n",
       "      <td>50</td>\n",
       "      <td>30</td>\n",
       "      <td>oui</td>\n",
       "      <td>Bouchon</td>\n",
       "      <td>Marie Bouchon est à 30 années de la retraite</td>\n",
       "    </tr>\n",
       "    <tr>\n",
       "      <td>3</td>\n",
       "      <td>Nono</td>\n",
       "      <td>50</td>\n",
       "      <td>rose</td>\n",
       "      <td>Damiens.Nono@gmail.com</td>\n",
       "      <td>50</td>\n",
       "      <td>0</td>\n",
       "      <td>non</td>\n",
       "      <td>Damiens</td>\n",
       "      <td>Nono Damiens est à 0 années de la retraite</td>\n",
       "    </tr>\n",
       "  </tbody>\n",
       "</table>\n",
       "</div>"
      ],
      "text/plain": [
       "    Name  Age Couleur_favorite                    Email  Age_Retraite  \\\n",
       "0    Tom   20            bleue       Tomy.Tom@gmail.com            50   \n",
       "1   Jack   30            bleue      Polo.Jack@gmail.com            50   \n",
       "2  Marie   20             rose  Bouchon.Marie@gmail.com            50   \n",
       "3   Nono   50             rose   Damiens.Nono@gmail.com            50   \n",
       "\n",
       "   Tps_avant_retraite Travaille      Nom  \\\n",
       "0                  30       oui     Tomy   \n",
       "1                  20       oui     Polo   \n",
       "2                  30       oui  Bouchon   \n",
       "3                   0       non  Damiens   \n",
       "\n",
       "                                    description  \n",
       "0       Tom Tomy est à 30 années de la retraite  \n",
       "1      Jack Polo est à 20 années de la retraite  \n",
       "2  Marie Bouchon est à 30 années de la retraite  \n",
       "3    Nono Damiens est à 0 années de la retraite  "
      ]
     },
     "execution_count": 37,
     "metadata": {},
     "output_type": "execute_result"
    }
   ],
   "source": [
    "df"
   ]
  },
  {
   "cell_type": "markdown",
   "metadata": {},
   "source": [
    "## *Modifier un DataFrame*"
   ]
  },
  {
   "cell_type": "markdown",
   "metadata": {},
   "source": [
    "### Modifier les colonnes\n",
    "*`axis=0`*"
   ]
  },
  {
   "cell_type": "markdown",
   "metadata": {},
   "source": [
    "* Sur la colonne 'Couleur_favorite' on *`.apply()`* applique *`capitalizetalize`* qui mettre une majuscule au début de chaque mots"
   ]
  },
  {
   "cell_type": "code",
   "execution_count": 60,
   "metadata": {
    "ExecuteTime": {
     "end_time": "2020-04-05T15:07:52.038260Z",
     "start_time": "2020-04-05T15:07:52.033169Z"
    }
   },
   "outputs": [],
   "source": [
    "df.Couleur_favorite.apply(str.capitalize).inplace=True"
   ]
  },
  {
   "cell_type": "code",
   "execution_count": 33,
   "metadata": {
    "ExecuteTime": {
     "end_time": "2020-04-05T12:51:07.616834Z",
     "start_time": "2020-04-05T12:51:07.610680Z"
    }
   },
   "outputs": [],
   "source": []
  },
  {
   "cell_type": "code",
   "execution_count": 61,
   "metadata": {
    "ExecuteTime": {
     "end_time": "2020-04-05T15:07:59.522092Z",
     "start_time": "2020-04-05T15:07:59.491827Z"
    },
    "scrolled": true
   },
   "outputs": [
    {
     "data": {
      "text/html": [
       "<div>\n",
       "<style scoped>\n",
       "    .dataframe tbody tr th:only-of-type {\n",
       "        vertical-align: middle;\n",
       "    }\n",
       "\n",
       "    .dataframe tbody tr th {\n",
       "        vertical-align: top;\n",
       "    }\n",
       "\n",
       "    .dataframe thead th {\n",
       "        text-align: right;\n",
       "    }\n",
       "</style>\n",
       "<table border=\"1\" class=\"dataframe\">\n",
       "  <thead>\n",
       "    <tr style=\"text-align: right;\">\n",
       "      <th></th>\n",
       "      <th>Name</th>\n",
       "      <th>Age</th>\n",
       "      <th>Couleur_favorite</th>\n",
       "      <th>Email</th>\n",
       "      <th>Age_Retraite</th>\n",
       "      <th>Tps_avant_retraite</th>\n",
       "      <th>Travaille</th>\n",
       "      <th>Nom</th>\n",
       "      <th>description</th>\n",
       "    </tr>\n",
       "  </thead>\n",
       "  <tbody>\n",
       "    <tr>\n",
       "      <td>0</td>\n",
       "      <td>Tom</td>\n",
       "      <td>20</td>\n",
       "      <td>bleue</td>\n",
       "      <td>Tomy.Tom@gmail.com</td>\n",
       "      <td>50</td>\n",
       "      <td>30</td>\n",
       "      <td>oui</td>\n",
       "      <td>Tomy</td>\n",
       "      <td>Tom Tomy est à 30 années de la retraite</td>\n",
       "    </tr>\n",
       "    <tr>\n",
       "      <td>1</td>\n",
       "      <td>Jack</td>\n",
       "      <td>30</td>\n",
       "      <td>bleue</td>\n",
       "      <td>Polo.Jack@gmail.com</td>\n",
       "      <td>50</td>\n",
       "      <td>20</td>\n",
       "      <td>oui</td>\n",
       "      <td>Polo</td>\n",
       "      <td>Jack Polo est à 20 années de la retraite</td>\n",
       "    </tr>\n",
       "    <tr>\n",
       "      <td>2</td>\n",
       "      <td>Marie</td>\n",
       "      <td>20</td>\n",
       "      <td>rose</td>\n",
       "      <td>Bouchon.Marie@gmail.com</td>\n",
       "      <td>50</td>\n",
       "      <td>30</td>\n",
       "      <td>oui</td>\n",
       "      <td>Bouchon</td>\n",
       "      <td>Marie Bouchon est à 30 années de la retraite</td>\n",
       "    </tr>\n",
       "    <tr>\n",
       "      <td>3</td>\n",
       "      <td>Nono</td>\n",
       "      <td>50</td>\n",
       "      <td>rose</td>\n",
       "      <td>Damiens.Nono@gmail.com</td>\n",
       "      <td>50</td>\n",
       "      <td>0</td>\n",
       "      <td>non</td>\n",
       "      <td>Damiens</td>\n",
       "      <td>Nono Damiens est à 0 années de la retraite</td>\n",
       "    </tr>\n",
       "  </tbody>\n",
       "</table>\n",
       "</div>"
      ],
      "text/plain": [
       "    Name  Age Couleur_favorite                    Email  Age_Retraite  \\\n",
       "0    Tom   20            bleue       Tomy.Tom@gmail.com            50   \n",
       "1   Jack   30            bleue      Polo.Jack@gmail.com            50   \n",
       "2  Marie   20             rose  Bouchon.Marie@gmail.com            50   \n",
       "3   Nono   50             rose   Damiens.Nono@gmail.com            50   \n",
       "\n",
       "   Tps_avant_retraite Travaille      Nom  \\\n",
       "0                  30       oui     Tomy   \n",
       "1                  20       oui     Polo   \n",
       "2                  30       oui  Bouchon   \n",
       "3                   0       non  Damiens   \n",
       "\n",
       "                                    description  \n",
       "0       Tom Tomy est à 30 années de la retraite  \n",
       "1      Jack Polo est à 20 années de la retraite  \n",
       "2  Marie Bouchon est à 30 années de la retraite  \n",
       "3    Nono Damiens est à 0 années de la retraite  "
      ]
     },
     "execution_count": 61,
     "metadata": {},
     "output_type": "execute_result"
    }
   ],
   "source": [
    "df"
   ]
  },
  {
   "cell_type": "markdown",
   "metadata": {},
   "source": [
    "### Modifier les lignes\n",
    "*`axis=1`* avec cet arg, la varb d'une *`lambda`* passera sur toutes les lignes, et pourra donner accès au col, comme ceci *`varb.col`* "
   ]
  },
  {
   "cell_type": "code",
   "execution_count": 97,
   "metadata": {
    "ExecuteTime": {
     "end_time": "2020-04-05T20:16:51.512559Z",
     "start_time": "2020-04-05T20:16:51.506769Z"
    }
   },
   "outputs": [
    {
     "ename": "SyntaxError",
     "evalue": "invalid syntax (<ipython-input-97-ccf75a2c50f3>, line 1)",
     "output_type": "error",
     "traceback": [
      "\u001b[0;36m  File \u001b[0;32m\"<ipython-input-97-ccf75a2c50f3>\"\u001b[0;36m, line \u001b[0;32m1\u001b[0m\n\u001b[0;31m    df.Age_Retraite.apply(lambda row: 67 if row.Age > 25)\u001b[0m\n\u001b[0m                                                        ^\u001b[0m\n\u001b[0;31mSyntaxError\u001b[0m\u001b[0;31m:\u001b[0m invalid syntax\n"
     ]
    }
   ],
   "source": [
    "df.Age_Retraite.apply(lambda row: 67 if row.Age > 25)"
   ]
  },
  {
   "cell_type": "code",
   "execution_count": null,
   "metadata": {},
   "outputs": [],
   "source": [
    "df.apply(lambda row: 'Dear Ms. ' + row.last_name if row.gender=='female' else 'Dear Mr. ' + row.last_name, axis=1)"
   ]
  },
  {
   "cell_type": "markdown",
   "metadata": {},
   "source": [
    "* Trier les lignes avec *`.sort_values()`*, prend une *`list`* si on lui passe plusieurs vals  \n",
    "  Ici on va trier le df par 'Age' décroissant, puis par 'Tps_avant_retraite' "
   ]
  },
  {
   "cell_type": "code",
   "execution_count": 83,
   "metadata": {
    "ExecuteTime": {
     "end_time": "2020-04-05T19:43:47.127327Z",
     "start_time": "2020-04-05T19:43:47.111756Z"
    },
    "scrolled": true
   },
   "outputs": [
    {
     "data": {
      "text/html": [
       "<div>\n",
       "<style scoped>\n",
       "    .dataframe tbody tr th:only-of-type {\n",
       "        vertical-align: middle;\n",
       "    }\n",
       "\n",
       "    .dataframe tbody tr th {\n",
       "        vertical-align: top;\n",
       "    }\n",
       "\n",
       "    .dataframe thead th {\n",
       "        text-align: right;\n",
       "    }\n",
       "</style>\n",
       "<table border=\"1\" class=\"dataframe\">\n",
       "  <thead>\n",
       "    <tr style=\"text-align: right;\">\n",
       "      <th></th>\n",
       "      <th>Nom</th>\n",
       "      <th>Prenom</th>\n",
       "      <th>Age</th>\n",
       "      <th>Email</th>\n",
       "      <th>Age_Retraite</th>\n",
       "      <th>Tps_avant_retraite</th>\n",
       "      <th>Couleur_favorite</th>\n",
       "      <th>Travaille</th>\n",
       "      <th>Description</th>\n",
       "    </tr>\n",
       "  </thead>\n",
       "  <tbody>\n",
       "    <tr>\n",
       "      <td>3</td>\n",
       "      <td>Damiens</td>\n",
       "      <td>Nono</td>\n",
       "      <td>50</td>\n",
       "      <td>Damiens.Nono@gmail.com</td>\n",
       "      <td>50</td>\n",
       "      <td>0</td>\n",
       "      <td>rose</td>\n",
       "      <td>non</td>\n",
       "      <td>Nono Damiens est à 0 années de la retraite</td>\n",
       "    </tr>\n",
       "    <tr>\n",
       "      <td>1</td>\n",
       "      <td>Polo</td>\n",
       "      <td>Jack</td>\n",
       "      <td>30</td>\n",
       "      <td>Polo.Jack@gmail.com</td>\n",
       "      <td>50</td>\n",
       "      <td>20</td>\n",
       "      <td>bleue</td>\n",
       "      <td>oui</td>\n",
       "      <td>Jack Polo est à 20 années de la retraite</td>\n",
       "    </tr>\n",
       "    <tr>\n",
       "      <td>0</td>\n",
       "      <td>Tomy</td>\n",
       "      <td>Tom</td>\n",
       "      <td>20</td>\n",
       "      <td>Tomy.Tom@gmail.com</td>\n",
       "      <td>50</td>\n",
       "      <td>30</td>\n",
       "      <td>bleue</td>\n",
       "      <td>oui</td>\n",
       "      <td>Tom Tomy est à 30 années de la retraite</td>\n",
       "    </tr>\n",
       "    <tr>\n",
       "      <td>2</td>\n",
       "      <td>Bouchon</td>\n",
       "      <td>Marie</td>\n",
       "      <td>20</td>\n",
       "      <td>Bouchon.Marie@gmail.com</td>\n",
       "      <td>50</td>\n",
       "      <td>30</td>\n",
       "      <td>rose</td>\n",
       "      <td>oui</td>\n",
       "      <td>Marie Bouchon est à 30 années de la retraite</td>\n",
       "    </tr>\n",
       "  </tbody>\n",
       "</table>\n",
       "</div>"
      ],
      "text/plain": [
       "       Nom Prenom  Age                    Email  Age_Retraite  \\\n",
       "3  Damiens   Nono   50   Damiens.Nono@gmail.com            50   \n",
       "1     Polo   Jack   30      Polo.Jack@gmail.com            50   \n",
       "0     Tomy    Tom   20       Tomy.Tom@gmail.com            50   \n",
       "2  Bouchon  Marie   20  Bouchon.Marie@gmail.com            50   \n",
       "\n",
       "   Tps_avant_retraite Couleur_favorite Travaille  \\\n",
       "3                   0             rose       non   \n",
       "1                  20            bleue       oui   \n",
       "0                  30            bleue       oui   \n",
       "2                  30             rose       oui   \n",
       "\n",
       "                                    Description  \n",
       "3    Nono Damiens est à 0 années de la retraite  \n",
       "1      Jack Polo est à 20 années de la retraite  \n",
       "0       Tom Tomy est à 30 années de la retraite  \n",
       "2  Marie Bouchon est à 30 années de la retraite  "
      ]
     },
     "execution_count": 83,
     "metadata": {},
     "output_type": "execute_result"
    }
   ],
   "source": [
    "df.sort_values(by=['Age', 'Tps_avant_retraite'], ascending=False) # si une val => .sort_values(by='Age')"
   ]
  },
  {
   "cell_type": "code",
   "execution_count": 82,
   "metadata": {
    "ExecuteTime": {
     "end_time": "2020-04-05T17:34:21.658826Z",
     "start_time": "2020-04-05T17:34:21.649769Z"
    }
   },
   "outputs": [
    {
     "data": {
      "text/plain": [
       "0    4\n",
       "1    4\n",
       "2    7\n",
       "3    7\n",
       "Name: Nom, dtype: int64"
      ]
     },
     "execution_count": 82,
     "metadata": {},
     "output_type": "execute_result"
    }
   ],
   "source": [
    "df.Nom.str.len().sort_values()"
   ]
  },
  {
   "cell_type": "code",
   "execution_count": null,
   "metadata": {},
   "outputs": [],
   "source": [
    "df['length'] = df['name'].str.len()\n",
    "df.sort_values('length', ascending=False, inplace=True)"
   ]
  },
  {
   "cell_type": "markdown",
   "metadata": {},
   "source": [
    "### Supprimer "
   ]
  },
  {
   "cell_type": "markdown",
   "metadata": {},
   "source": [
    "#### Supprimer des Colonnes *`.drop(... , axis=1)`*  \n",
    "Pour signifier que c'est une col que l'on veut supprimer on spécifie toujours *`axis=1`*  \n",
    "car sinon c'est une ligne"
   ]
  },
  {
   "cell_type": "markdown",
   "metadata": {},
   "source": [
    "Syntaxe: ***`df.drop(['colx', 'coly'], axis=1)***"
   ]
  },
  {
   "cell_type": "code",
   "execution_count": 74,
   "metadata": {
    "ExecuteTime": {
     "end_time": "2020-04-05T17:13:02.868931Z",
     "start_time": "2020-04-05T17:13:02.844412Z"
    },
    "cell_style": "center",
    "scrolled": true
   },
   "outputs": [
    {
     "data": {
      "text/html": [
       "<div>\n",
       "<style scoped>\n",
       "    .dataframe tbody tr th:only-of-type {\n",
       "        vertical-align: middle;\n",
       "    }\n",
       "\n",
       "    .dataframe tbody tr th {\n",
       "        vertical-align: top;\n",
       "    }\n",
       "\n",
       "    .dataframe thead th {\n",
       "        text-align: right;\n",
       "    }\n",
       "</style>\n",
       "<table border=\"1\" class=\"dataframe\">\n",
       "  <thead>\n",
       "    <tr style=\"text-align: right;\">\n",
       "      <th></th>\n",
       "      <th>Nom</th>\n",
       "      <th>Prenom</th>\n",
       "      <th>Age</th>\n",
       "      <th>Email</th>\n",
       "      <th>Age_Retraite</th>\n",
       "      <th>Travaille</th>\n",
       "      <th>Description</th>\n",
       "    </tr>\n",
       "  </thead>\n",
       "  <tbody>\n",
       "    <tr>\n",
       "      <td>0</td>\n",
       "      <td>Tomy</td>\n",
       "      <td>Tom</td>\n",
       "      <td>20</td>\n",
       "      <td>Tomy.Tom@gmail.com</td>\n",
       "      <td>50</td>\n",
       "      <td>oui</td>\n",
       "      <td>Tom Tomy est à 30 années de la retraite</td>\n",
       "    </tr>\n",
       "    <tr>\n",
       "      <td>1</td>\n",
       "      <td>Polo</td>\n",
       "      <td>Jack</td>\n",
       "      <td>30</td>\n",
       "      <td>Polo.Jack@gmail.com</td>\n",
       "      <td>50</td>\n",
       "      <td>oui</td>\n",
       "      <td>Jack Polo est à 20 années de la retraite</td>\n",
       "    </tr>\n",
       "    <tr>\n",
       "      <td>2</td>\n",
       "      <td>Bouchon</td>\n",
       "      <td>Marie</td>\n",
       "      <td>20</td>\n",
       "      <td>Bouchon.Marie@gmail.com</td>\n",
       "      <td>50</td>\n",
       "      <td>oui</td>\n",
       "      <td>Marie Bouchon est à 30 années de la retraite</td>\n",
       "    </tr>\n",
       "    <tr>\n",
       "      <td>3</td>\n",
       "      <td>Damiens</td>\n",
       "      <td>Nono</td>\n",
       "      <td>50</td>\n",
       "      <td>Damiens.Nono@gmail.com</td>\n",
       "      <td>50</td>\n",
       "      <td>non</td>\n",
       "      <td>Nono Damiens est à 0 années de la retraite</td>\n",
       "    </tr>\n",
       "  </tbody>\n",
       "</table>\n",
       "</div>"
      ],
      "text/plain": [
       "       Nom Prenom  Age                    Email  Age_Retraite Travaille  \\\n",
       "0     Tomy    Tom   20       Tomy.Tom@gmail.com            50       oui   \n",
       "1     Polo   Jack   30      Polo.Jack@gmail.com            50       oui   \n",
       "2  Bouchon  Marie   20  Bouchon.Marie@gmail.com            50       oui   \n",
       "3  Damiens   Nono   50   Damiens.Nono@gmail.com            50       non   \n",
       "\n",
       "                                    Description  \n",
       "0       Tom Tomy est à 30 années de la retraite  \n",
       "1      Jack Polo est à 20 années de la retraite  \n",
       "2  Marie Bouchon est à 30 années de la retraite  \n",
       "3    Nono Damiens est à 0 années de la retraite  "
      ]
     },
     "execution_count": 74,
     "metadata": {},
     "output_type": "execute_result"
    }
   ],
   "source": [
    "df.drop(['Couleur_favorite', 'Tps_avant_retraite'], axis=1) #, inplace=True)"
   ]
  },
  {
   "cell_type": "markdown",
   "metadata": {},
   "source": [
    "#### Supprimer des Lignes"
   ]
  },
  {
   "cell_type": "code",
   "execution_count": null,
   "metadata": {},
   "outputs": [],
   "source": []
  },
  {
   "cell_type": "code",
   "execution_count": null,
   "metadata": {},
   "outputs": [],
   "source": []
  },
  {
   "cell_type": "markdown",
   "metadata": {},
   "source": [
    "### Renomer des colonnes\n",
    "syntaxe: ***`df.rename(columns={'ancien nom': 'nouveau nom'})`***  \n",
    "On passe à *`df.rename`* l'arg *`columns`* qui prend un *`dict`* des anciens et nouveaux noms de col "
   ]
  },
  {
   "cell_type": "code",
   "execution_count": 62,
   "metadata": {
    "ExecuteTime": {
     "end_time": "2020-04-05T15:12:05.758890Z",
     "start_time": "2020-04-05T15:12:05.744618Z"
    }
   },
   "outputs": [],
   "source": [
    "df.rename(columns={'Name': 'Prenom', 'description': 'Description'}, inplace=True)"
   ]
  },
  {
   "cell_type": "code",
   "execution_count": 63,
   "metadata": {
    "ExecuteTime": {
     "end_time": "2020-04-05T15:12:10.550897Z",
     "start_time": "2020-04-05T15:12:10.536473Z"
    },
    "scrolled": true
   },
   "outputs": [
    {
     "data": {
      "text/html": [
       "<div>\n",
       "<style scoped>\n",
       "    .dataframe tbody tr th:only-of-type {\n",
       "        vertical-align: middle;\n",
       "    }\n",
       "\n",
       "    .dataframe tbody tr th {\n",
       "        vertical-align: top;\n",
       "    }\n",
       "\n",
       "    .dataframe thead th {\n",
       "        text-align: right;\n",
       "    }\n",
       "</style>\n",
       "<table border=\"1\" class=\"dataframe\">\n",
       "  <thead>\n",
       "    <tr style=\"text-align: right;\">\n",
       "      <th></th>\n",
       "      <th>Prenom</th>\n",
       "      <th>Age</th>\n",
       "      <th>Couleur_favorite</th>\n",
       "      <th>Email</th>\n",
       "      <th>Age_Retraite</th>\n",
       "      <th>Tps_avant_retraite</th>\n",
       "      <th>Travaille</th>\n",
       "      <th>Nom</th>\n",
       "      <th>Description</th>\n",
       "    </tr>\n",
       "  </thead>\n",
       "  <tbody>\n",
       "    <tr>\n",
       "      <td>0</td>\n",
       "      <td>Tom</td>\n",
       "      <td>20</td>\n",
       "      <td>bleue</td>\n",
       "      <td>Tomy.Tom@gmail.com</td>\n",
       "      <td>50</td>\n",
       "      <td>30</td>\n",
       "      <td>oui</td>\n",
       "      <td>Tomy</td>\n",
       "      <td>Tom Tomy est à 30 années de la retraite</td>\n",
       "    </tr>\n",
       "    <tr>\n",
       "      <td>1</td>\n",
       "      <td>Jack</td>\n",
       "      <td>30</td>\n",
       "      <td>bleue</td>\n",
       "      <td>Polo.Jack@gmail.com</td>\n",
       "      <td>50</td>\n",
       "      <td>20</td>\n",
       "      <td>oui</td>\n",
       "      <td>Polo</td>\n",
       "      <td>Jack Polo est à 20 années de la retraite</td>\n",
       "    </tr>\n",
       "    <tr>\n",
       "      <td>2</td>\n",
       "      <td>Marie</td>\n",
       "      <td>20</td>\n",
       "      <td>rose</td>\n",
       "      <td>Bouchon.Marie@gmail.com</td>\n",
       "      <td>50</td>\n",
       "      <td>30</td>\n",
       "      <td>oui</td>\n",
       "      <td>Bouchon</td>\n",
       "      <td>Marie Bouchon est à 30 années de la retraite</td>\n",
       "    </tr>\n",
       "    <tr>\n",
       "      <td>3</td>\n",
       "      <td>Nono</td>\n",
       "      <td>50</td>\n",
       "      <td>rose</td>\n",
       "      <td>Damiens.Nono@gmail.com</td>\n",
       "      <td>50</td>\n",
       "      <td>0</td>\n",
       "      <td>non</td>\n",
       "      <td>Damiens</td>\n",
       "      <td>Nono Damiens est à 0 années de la retraite</td>\n",
       "    </tr>\n",
       "  </tbody>\n",
       "</table>\n",
       "</div>"
      ],
      "text/plain": [
       "  Prenom  Age Couleur_favorite                    Email  Age_Retraite  \\\n",
       "0    Tom   20            bleue       Tomy.Tom@gmail.com            50   \n",
       "1   Jack   30            bleue      Polo.Jack@gmail.com            50   \n",
       "2  Marie   20             rose  Bouchon.Marie@gmail.com            50   \n",
       "3   Nono   50             rose   Damiens.Nono@gmail.com            50   \n",
       "\n",
       "   Tps_avant_retraite Travaille      Nom  \\\n",
       "0                  30       oui     Tomy   \n",
       "1                  20       oui     Polo   \n",
       "2                  30       oui  Bouchon   \n",
       "3                   0       non  Damiens   \n",
       "\n",
       "                                    Description  \n",
       "0       Tom Tomy est à 30 années de la retraite  \n",
       "1      Jack Polo est à 20 années de la retraite  \n",
       "2  Marie Bouchon est à 30 années de la retraite  \n",
       "3    Nono Damiens est à 0 années de la retraite  "
      ]
     },
     "execution_count": 63,
     "metadata": {},
     "output_type": "execute_result"
    }
   ],
   "source": [
    "df"
   ]
  },
  {
   "cell_type": "markdown",
   "metadata": {},
   "source": [
    "### Changer des colonnes de places\n",
    "Change columns order"
   ]
  },
  {
   "cell_type": "code",
   "execution_count": 65,
   "metadata": {
    "ExecuteTime": {
     "end_time": "2020-04-05T17:05:13.869894Z",
     "start_time": "2020-04-05T17:05:13.858802Z"
    }
   },
   "outputs": [
    {
     "data": {
      "text/plain": [
       "['Prenom',\n",
       " 'Age',\n",
       " 'Couleur_favorite',\n",
       " 'Email',\n",
       " 'Age_Retraite',\n",
       " 'Tps_avant_retraite',\n",
       " 'Travaille',\n",
       " 'Nom',\n",
       " 'Description']"
      ]
     },
     "execution_count": 65,
     "metadata": {},
     "output_type": "execute_result"
    }
   ],
   "source": [
    "cols = df.columns.tolist()\n",
    "cols"
   ]
  },
  {
   "cell_type": "code",
   "execution_count": 68,
   "metadata": {
    "ExecuteTime": {
     "end_time": "2020-04-05T17:10:28.386472Z",
     "start_time": "2020-04-05T17:10:28.382014Z"
    }
   },
   "outputs": [],
   "source": [
    "chg_col_name =['Nom','Prenom','Age','Email','Age_Retraite',\n",
    "          'Tps_avant_retraite','Couleur_favorite','Travaille','Description']"
   ]
  },
  {
   "cell_type": "code",
   "execution_count": 73,
   "metadata": {
    "ExecuteTime": {
     "end_time": "2020-04-05T17:11:36.633462Z",
     "start_time": "2020-04-05T17:11:36.604444Z"
    }
   },
   "outputs": [
    {
     "data": {
      "text/html": [
       "<div>\n",
       "<style scoped>\n",
       "    .dataframe tbody tr th:only-of-type {\n",
       "        vertical-align: middle;\n",
       "    }\n",
       "\n",
       "    .dataframe tbody tr th {\n",
       "        vertical-align: top;\n",
       "    }\n",
       "\n",
       "    .dataframe thead th {\n",
       "        text-align: right;\n",
       "    }\n",
       "</style>\n",
       "<table border=\"1\" class=\"dataframe\">\n",
       "  <thead>\n",
       "    <tr style=\"text-align: right;\">\n",
       "      <th></th>\n",
       "      <th>Nom</th>\n",
       "      <th>Prenom</th>\n",
       "      <th>Age</th>\n",
       "      <th>Email</th>\n",
       "      <th>Age_Retraite</th>\n",
       "      <th>Tps_avant_retraite</th>\n",
       "      <th>Couleur_favorite</th>\n",
       "      <th>Travaille</th>\n",
       "      <th>Description</th>\n",
       "    </tr>\n",
       "  </thead>\n",
       "  <tbody>\n",
       "    <tr>\n",
       "      <td>0</td>\n",
       "      <td>Tomy</td>\n",
       "      <td>Tom</td>\n",
       "      <td>20</td>\n",
       "      <td>Tomy.Tom@gmail.com</td>\n",
       "      <td>50</td>\n",
       "      <td>30</td>\n",
       "      <td>bleue</td>\n",
       "      <td>oui</td>\n",
       "      <td>Tom Tomy est à 30 années de la retraite</td>\n",
       "    </tr>\n",
       "    <tr>\n",
       "      <td>1</td>\n",
       "      <td>Polo</td>\n",
       "      <td>Jack</td>\n",
       "      <td>30</td>\n",
       "      <td>Polo.Jack@gmail.com</td>\n",
       "      <td>50</td>\n",
       "      <td>20</td>\n",
       "      <td>bleue</td>\n",
       "      <td>oui</td>\n",
       "      <td>Jack Polo est à 20 années de la retraite</td>\n",
       "    </tr>\n",
       "    <tr>\n",
       "      <td>2</td>\n",
       "      <td>Bouchon</td>\n",
       "      <td>Marie</td>\n",
       "      <td>20</td>\n",
       "      <td>Bouchon.Marie@gmail.com</td>\n",
       "      <td>50</td>\n",
       "      <td>30</td>\n",
       "      <td>rose</td>\n",
       "      <td>oui</td>\n",
       "      <td>Marie Bouchon est à 30 années de la retraite</td>\n",
       "    </tr>\n",
       "    <tr>\n",
       "      <td>3</td>\n",
       "      <td>Damiens</td>\n",
       "      <td>Nono</td>\n",
       "      <td>50</td>\n",
       "      <td>Damiens.Nono@gmail.com</td>\n",
       "      <td>50</td>\n",
       "      <td>0</td>\n",
       "      <td>rose</td>\n",
       "      <td>non</td>\n",
       "      <td>Nono Damiens est à 0 années de la retraite</td>\n",
       "    </tr>\n",
       "  </tbody>\n",
       "</table>\n",
       "</div>"
      ],
      "text/plain": [
       "       Nom Prenom  Age                    Email  Age_Retraite  \\\n",
       "0     Tomy    Tom   20       Tomy.Tom@gmail.com            50   \n",
       "1     Polo   Jack   30      Polo.Jack@gmail.com            50   \n",
       "2  Bouchon  Marie   20  Bouchon.Marie@gmail.com            50   \n",
       "3  Damiens   Nono   50   Damiens.Nono@gmail.com            50   \n",
       "\n",
       "   Tps_avant_retraite Couleur_favorite Travaille  \\\n",
       "0                  30            bleue       oui   \n",
       "1                  20            bleue       oui   \n",
       "2                  30             rose       oui   \n",
       "3                   0             rose       non   \n",
       "\n",
       "                                    Description  \n",
       "0       Tom Tomy est à 30 années de la retraite  \n",
       "1      Jack Polo est à 20 années de la retraite  \n",
       "2  Marie Bouchon est à 30 années de la retraite  \n",
       "3    Nono Damiens est à 0 années de la retraite  "
      ]
     },
     "execution_count": 73,
     "metadata": {},
     "output_type": "execute_result"
    }
   ],
   "source": [
    "df=df[chg_col_name] # On lui passe une list dans une list [[]]\n",
    "df"
   ]
  }
 ],
 "metadata": {
  "hide_input": false,
  "kernelspec": {
   "display_name": "Python 3",
   "language": "python",
   "name": "python3"
  },
  "language_info": {
   "codemirror_mode": {
    "name": "ipython",
    "version": 3
   },
   "file_extension": ".py",
   "mimetype": "text/x-python",
   "name": "python",
   "nbconvert_exporter": "python",
   "pygments_lexer": "ipython3",
   "version": "3.7.4"
  },
  "latex_envs": {
   "LaTeX_envs_menu_present": true,
   "autoclose": false,
   "autocomplete": true,
   "bibliofile": "biblio.bib",
   "cite_by": "apalike",
   "current_citInitial": 1,
   "eqLabelWithNumbers": true,
   "eqNumInitial": 1,
   "hotkeys": {
    "equation": "Ctrl-E",
    "itemize": "Ctrl-I"
   },
   "labels_anchors": false,
   "latex_user_defs": false,
   "report_style_numbering": false,
   "user_envs_cfg": false
  },
  "toc": {
   "base_numbering": 1,
   "nav_menu": {},
   "number_sections": true,
   "sideBar": true,
   "skip_h1_title": false,
   "title_cell": "Table of Contents",
   "title_sidebar": "Contents",
   "toc_cell": false,
   "toc_position": {},
   "toc_section_display": true,
   "toc_window_display": false
  }
 },
 "nbformat": 4,
 "nbformat_minor": 2
}
