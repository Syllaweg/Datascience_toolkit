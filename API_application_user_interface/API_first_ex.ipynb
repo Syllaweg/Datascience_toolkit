{
 "cells": [
  {
   "cell_type": "markdown",
   "metadata": {},
   "source": [
    "# _APIs, Application User Interface_ "
   ]
  },
  {
   "cell_type": "markdown",
   "metadata": {},
   "source": [
    " Une API est un ensemble de méthodes et d'outils qui autorise différentes applications à intéragir entre elles.\n",
    "Ces méthodes vont requéter et récupérer des données dynamiquement, qui seront ensuite intégrer à des applications. les APIs permettent via un client de récuperer rapidement des informations choisies.\n",
    "\n",
    "Par exemple une Google pourrait être une API, car nous faisons des requêtes qui nous renvoie des liens vers des pages-web, ce qui est le même principe sauf qu'une API nous renverrai des données\n",
    "\n",
    "une API renvoie normalement des données sous forme de JavaScript Object Notation, le format *.JSON*."
   ]
  },
  {
   "cell_type": "markdown",
   "metadata": {},
   "source": [
    "## *requests* la library pour faire des requêtes\n",
    "Une API possède des ***endpoints*** qui sont des 'server route' pour récupérer des données spcéciques à un 'endpoints'.  \n",
    "Pour cela nous allons utiliser la library *`requests`* qui sert à faire des requêtes HTTP notament\n",
    "\n",
    ">- *`requests.get('http..')`* pour envoyer la requête\n",
    ">- *`.status_code`* voir le code qui correspond au type de traitement de la requête par le serveur\n",
    ">- *`.content`* Affiche le contenue de ce qui est retourné par la requête\n",
    ">- *`.headers`* affiche les méta données renvoyés avec reponse à la requête"
   ]
  },
  {
   "cell_type": "code",
   "execution_count": 3,
   "metadata": {
    "ExecuteTime": {
     "end_time": "2020-04-24T16:27:46.066742Z",
     "start_time": "2020-04-24T16:27:45.796254Z"
    }
   },
   "outputs": [],
   "source": [
    "import requests"
   ]
  },
  {
   "cell_type": "code",
   "execution_count": 8,
   "metadata": {
    "ExecuteTime": {
     "end_time": "2020-04-24T16:30:45.517868Z",
     "start_time": "2020-04-24T16:30:45.128236Z"
    }
   },
   "outputs": [],
   "source": [
    "# la requete demande qu'on lui passe des param qui sont la latitude et la longitude du point survolé par le #satelite, on lui passe dans un dict, ici les repère de la ville de San Francisco\n",
    "parameters = {\"lat\": 37.78, \"lon\": -122.41}\n",
    "\n",
    "response = requests.get(\"http://api.open-notify.org/iss-pass.json\", params=parameters)"
   ]
  },
  {
   "cell_type": "code",
   "execution_count": 10,
   "metadata": {
    "ExecuteTime": {
     "end_time": "2020-04-24T16:32:17.548096Z",
     "start_time": "2020-04-24T16:32:17.544803Z"
    }
   },
   "outputs": [],
   "source": [
    "#On aurrait également pu passer les param conne ceci\n",
    "#response = requests.get(\"http://api.open-notify.org/iss-pass.json?lat=37.78&lon=-122.41\")"
   ]
  },
  {
   "cell_type": "markdown",
   "metadata": {},
   "source": [
    "### les Codes Réponses HTTP"
   ]
  },
  {
   "cell_type": "markdown",
   "metadata": {},
   "source": [
    "- on va regarder quel `*status_code`* à renvoyer l'API"
   ]
  },
  {
   "cell_type": "code",
   "execution_count": 12,
   "metadata": {
    "ExecuteTime": {
     "end_time": "2020-04-24T16:34:40.673601Z",
     "start_time": "2020-04-24T16:34:40.667841Z"
    },
    "scrolled": true
   },
   "outputs": [
    {
     "data": {
      "text/plain": [
       "200"
      ]
     },
     "execution_count": 12,
     "metadata": {},
     "output_type": "execute_result"
    }
   ],
   "source": [
    "response.status_code"
   ]
  },
  {
   "cell_type": "markdown",
   "metadata": {},
   "source": [
    "Pour chaque requêtes d'API un serveur web va renvoyer un 'status code', qui nous une information sur la comment a pu être traiter la requête"
   ]
  },
  {
   "cell_type": "markdown",
   "metadata": {},
   "source": [
    "Voici des reponses 'status code' possible au requêtes de *`.get`*:\n",
    "\n",
    "- $200$ : ok, Le serveurs à retourner le reponses sans problème.\n",
    "- $301$ : Le serveur vous à redirigé vers un autre *'endpoints'*, cela peut arriver quant un site change son de domaine, zum beispeil\n",
    "- $401$ : Le serveur pense que vous n'êtes pas authentifié, cela peut arriver si les bons 'credentials' pour accéder a l'API non pas été envoyé.\n",
    "- $400$ : le serveur vous dit que vous avez fait une 'bad request' \n",
    "- $403$ : la ressource à laquelle vous voulez accéder vous est interdite, vous n'avez pas les droits d'accès\n",
    "- $404$ - le serveur nen trouve pas les ressources auxquels vous voulez accerder"
   ]
  },
  {
   "cell_type": "markdown",
   "metadata": {
    "ExecuteTime": {
     "end_time": "2020-04-24T15:48:37.046512Z",
     "start_time": "2020-04-24T15:48:37.036931Z"
    }
   },
   "source": [
    "***\n",
    "On afficher le ret de la requête avec *`.content`*"
   ]
  },
  {
   "cell_type": "code",
   "execution_count": 11,
   "metadata": {
    "ExecuteTime": {
     "end_time": "2020-04-24T16:34:34.045976Z",
     "start_time": "2020-04-24T16:34:34.029562Z"
    },
    "scrolled": true
   },
   "outputs": [
    {
     "data": {
      "text/plain": [
       "b'{\\n  \"message\": \"success\", \\n  \"request\": {\\n    \"altitude\": 100, \\n    \"datetime\": 1587745667, \\n    \"latitude\": 37.78, \\n    \"longitude\": -122.41, \\n    \"passes\": 5\\n  }, \\n  \"response\": [\\n    {\\n      \"duration\": 488, \\n      \"risetime\": 1587746206\\n    }, \\n    {\\n      \"duration\": 556, \\n      \"risetime\": 1587752057\\n    }, \\n    {\\n      \"duration\": 650, \\n      \"risetime\": 1587757852\\n    }, \\n    {\\n      \"duration\": 552, \\n      \"risetime\": 1587763687\\n    }, \\n    {\\n      \"duration\": 342, \\n      \"risetime\": 1587812342\\n    }\\n  ]\\n}\\n'"
      ]
     },
     "execution_count": 11,
     "metadata": {},
     "output_type": "execute_result"
    }
   ],
   "source": [
    "response.content"
   ]
  },
  {
   "cell_type": "markdown",
   "metadata": {},
   "source": [
    "### Les Méta Données de la réponse\n",
    "La réponse renvoyé par la requête contient aussi des méta données qui contiennent des info sur le serveur, la générations des données et comment les décoder, ...  \n",
    "On peut les visualiser avec *`.headers`*, ret un *`dict`*"
   ]
  },
  {
   "cell_type": "code",
   "execution_count": 20,
   "metadata": {
    "ExecuteTime": {
     "end_time": "2020-04-24T17:17:29.655131Z",
     "start_time": "2020-04-24T17:17:29.647524Z"
    }
   },
   "outputs": [
    {
     "data": {
      "text/plain": [
       "{'Server': 'nginx/1.10.3', 'Date': 'Fri, 24 Apr 2020 16:30:45 GMT', 'Content-Type': 'application/json', 'Content-Length': '521', 'Connection': 'keep-alive', 'Via': '1.1 vegur'}"
      ]
     },
     "execution_count": 20,
     "metadata": {},
     "output_type": "execute_result"
    }
   ],
   "source": [
    "response.headers"
   ]
  },
  {
   "cell_type": "markdown",
   "metadata": {},
   "source": [
    "- affichons le type de données retournés"
   ]
  },
  {
   "cell_type": "code",
   "execution_count": 21,
   "metadata": {
    "ExecuteTime": {
     "end_time": "2020-04-24T17:25:52.955299Z",
     "start_time": "2020-04-24T17:25:52.951290Z"
    }
   },
   "outputs": [
    {
     "data": {
      "text/plain": [
       "'application/json'"
      ]
     },
     "execution_count": 21,
     "metadata": {},
     "output_type": "execute_result"
    }
   ],
   "source": [
    "response.headers[\"Content-Type\"]"
   ]
  },
  {
   "cell_type": "markdown",
   "metadata": {},
   "source": [
    "## le format *.JSON*\n",
    "Ce format va entres autre encoder les données comme des *`list`, `dict`* en *`str`* pour permettre à la machine de les lire plus facilement."
   ]
  },
  {
   "cell_type": "markdown",
   "metadata": {},
   "source": [
    "La library *`json`* de Python à 2 méthodes principales:\n",
    ">* *`.json()`* pour lire le contenue d'un ret sous format json\n",
    ">* *`json.dumps(..)`* Prends un Objet Python et le convertit en *`str`*\n",
    ">* *`json.loads(..)`* Prends un *`json` `string`* et le convertit en Objet Python"
   ]
  },
  {
   "cell_type": "code",
   "execution_count": 1,
   "metadata": {
    "ExecuteTime": {
     "end_time": "2020-04-24T16:16:27.031382Z",
     "start_time": "2020-04-24T16:16:27.025360Z"
    }
   },
   "outputs": [],
   "source": [
    "import json "
   ]
  },
  {
   "cell_type": "markdown",
   "metadata": {},
   "source": [
    "- Regardons le contenue de la reponse du serveur "
   ]
  },
  {
   "cell_type": "code",
   "execution_count": 14,
   "metadata": {
    "ExecuteTime": {
     "end_time": "2020-04-24T16:40:43.412252Z",
     "start_time": "2020-04-24T16:40:43.405212Z"
    }
   },
   "outputs": [
    {
     "data": {
      "text/plain": [
       "{'message': 'success',\n",
       " 'request': {'altitude': 100,\n",
       "  'datetime': 1587745667,\n",
       "  'latitude': 37.78,\n",
       "  'longitude': -122.41,\n",
       "  'passes': 5},\n",
       " 'response': [{'duration': 488, 'risetime': 1587746206},\n",
       "  {'duration': 556, 'risetime': 1587752057},\n",
       "  {'duration': 650, 'risetime': 1587757852},\n",
       "  {'duration': 552, 'risetime': 1587763687},\n",
       "  {'duration': 342, 'risetime': 1587812342}]}"
      ]
     },
     "execution_count": 14,
     "metadata": {},
     "output_type": "execute_result"
    }
   ],
   "source": [
    "json_data = response.json()\n",
    "json_data"
   ]
  },
  {
   "cell_type": "markdown",
   "metadata": {},
   "source": [
    "- allons une info qui nous interresse, dons le *`dict`* json le temps de passage du satelite au dessus de la ville de San Francisco"
   ]
  },
  {
   "cell_type": "code",
   "execution_count": 18,
   "metadata": {
    "ExecuteTime": {
     "end_time": "2020-04-24T16:46:25.089387Z",
     "start_time": "2020-04-24T16:46:25.081846Z"
    }
   },
   "outputs": [
    {
     "data": {
      "text/plain": [
       "488"
      ]
     },
     "execution_count": 18,
     "metadata": {},
     "output_type": "execute_result"
    }
   ],
   "source": [
    "# duré du premier passage\n",
    "json_data[\"response\"][0]['duration']\n",
    "#val de la clef['duration'] dans 1ère val[0] dans clef ['reponse'] dans json_data "
   ]
  },
  {
   "cell_type": "code",
   "execution_count": null,
   "metadata": {},
   "outputs": [],
   "source": []
  },
  {
   "cell_type": "code",
   "execution_count": null,
   "metadata": {
    "collapsed": true
   },
   "outputs": [],
   "source": []
  },
  {
   "cell_type": "code",
   "execution_count": null,
   "metadata": {},
   "outputs": [],
   "source": []
  },
  {
   "cell_type": "code",
   "execution_count": null,
   "metadata": {},
   "outputs": [],
   "source": []
  },
  {
   "cell_type": "code",
   "execution_count": null,
   "metadata": {},
   "outputs": [],
   "source": []
  },
  {
   "cell_type": "code",
   "execution_count": null,
   "metadata": {},
   "outputs": [],
   "source": []
  }
 ],
 "metadata": {
  "hide_input": false,
  "kernelspec": {
   "display_name": "Python 3",
   "language": "python",
   "name": "python3"
  },
  "language_info": {
   "codemirror_mode": {
    "name": "ipython",
    "version": 3
   },
   "file_extension": ".py",
   "mimetype": "text/x-python",
   "name": "python",
   "nbconvert_exporter": "python",
   "pygments_lexer": "ipython3",
   "version": "3.7.4"
  },
  "latex_envs": {
   "LaTeX_envs_menu_present": true,
   "autoclose": false,
   "autocomplete": true,
   "bibliofile": "biblio.bib",
   "cite_by": "apalike",
   "current_citInitial": 1,
   "eqLabelWithNumbers": true,
   "eqNumInitial": 1,
   "hotkeys": {
    "equation": "Ctrl-E",
    "itemize": "Ctrl-I"
   },
   "labels_anchors": false,
   "latex_user_defs": false,
   "report_style_numbering": false,
   "user_envs_cfg": false
  },
  "toc": {
   "base_numbering": 1,
   "nav_menu": {},
   "number_sections": true,
   "sideBar": true,
   "skip_h1_title": false,
   "title_cell": "Table of Contents",
   "title_sidebar": "Contents",
   "toc_cell": false,
   "toc_position": {},
   "toc_section_display": true,
   "toc_window_display": false
  }
 },
 "nbformat": 4,
 "nbformat_minor": 2
}
