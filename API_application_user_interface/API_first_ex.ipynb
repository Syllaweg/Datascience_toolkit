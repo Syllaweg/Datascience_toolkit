{
 "cells": [
  {
   "cell_type": "markdown",
   "metadata": {},
   "source": [
    "# _APIs, Application User Interface_ "
   ]
  },
  {
   "cell_type": "markdown",
   "metadata": {},
   "source": [
    " Une API est un ensemble de méthodes et d'outils qui autorise différentes applications à intéragir entre elles.\n",
    "Ces méthodes vont requéter et récupérer des données dynamiquement, qui seront ensuite intégrer à des applications. les APIs permettent via un client de récuperer rapidement des informations choisies.\n",
    "\n",
    "Par exemple une Google pourrait être une API, car nous faisons des requêtes qui nous renvoie des liens vers des pages-web, ce qui est le même principe sauf qu'une API nous renverrai des données\n",
    "\n",
    "une API renvoie normalement des données sous forme de JavaScript Object Notation, le format *.JSON*."
   ]
  },
  {
   "cell_type": "markdown",
   "metadata": {},
   "source": [
    "## *requests* la library pour faire des requêtes\n",
    "Une API possède des ***endpoints*** qui sont des 'server route' pour récupérer des données spcéciques à un 'endpoints'.  \n",
    "Pour cela nous allons utiliser la library *`requests`* qui sert à faire des requêtes HTTP notament\n",
    "\n",
    ">- *`requests.get('http..')`* pour envoyer la requête\n",
    ">- *`.status_code`* voir le code qui correspond au type de traitement de la requête par le serveur\n",
    ">- *`.content`* Affiche le contenue de ce qui est retourné par la requête"
   ]
  },
  {
   "cell_type": "code",
   "execution_count": 2,
   "metadata": {
    "ExecuteTime": {
     "end_time": "2020-04-24T14:34:49.306226Z",
     "start_time": "2020-04-24T14:34:48.978611Z"
    }
   },
   "outputs": [],
   "source": [
    "import requests"
   ]
  },
  {
   "cell_type": "code",
   "execution_count": 4,
   "metadata": {
    "ExecuteTime": {
     "end_time": "2020-04-24T14:36:40.053435Z",
     "start_time": "2020-04-24T14:36:39.727073Z"
    }
   },
   "outputs": [],
   "source": [
    "response = requests.get(\"http://api.open-notify.org/iss-now.json\")"
   ]
  },
  {
   "cell_type": "markdown",
   "metadata": {},
   "source": [
    "- on va regarder quel `*status_code`* à renvoyer l'API"
   ]
  },
  {
   "cell_type": "code",
   "execution_count": 7,
   "metadata": {
    "ExecuteTime": {
     "end_time": "2020-04-24T14:37:15.762317Z",
     "start_time": "2020-04-24T14:37:15.755401Z"
    },
    "scrolled": true
   },
   "outputs": [
    {
     "data": {
      "text/plain": [
       "200"
      ]
     },
     "execution_count": 7,
     "metadata": {},
     "output_type": "execute_result"
    }
   ],
   "source": [
    "response.status_code"
   ]
  },
  {
   "cell_type": "markdown",
   "metadata": {},
   "source": [
    "Pour chaque requêtes d'API un serveur web va renvoyer un 'status code', qui nous une information sur la comment a pu être traiter la requête"
   ]
  },
  {
   "cell_type": "markdown",
   "metadata": {},
   "source": [
    "Voici des reponses 'status code' possible au requêtes de *`.get`*:\n",
    "\n",
    "- $200$ : ok, Le serveurs à retourner le reponses sans problème.\n",
    "- $301$ : Le serveur vous à redirigé vers un autre *'endpoints'*, cela peut arriver quant un site change son de domaine, zum beispeil\n",
    "- $401$ : Le serveur pense que vous n'êtes pas authentifié, cela peut arriver si les bons 'credentials' pour accéder a l'API non pas été envoyé.\n",
    "- $400$ : le serveur vous dit que vous avez fait une 'bad request' \n",
    "- $403$ : la ressource à laquelle vous voulez accéder vous est interdite, vous n'avez pas les droits d'accès\n",
    "- $404$ - le serveur nen trouve pas les ressources auxquels vous voulez accerder"
   ]
  },
  {
   "cell_type": "markdown",
   "metadata": {
    "ExecuteTime": {
     "end_time": "2020-04-24T15:48:37.046512Z",
     "start_time": "2020-04-24T15:48:37.036931Z"
    }
   },
   "source": [
    "***\n",
    "On afficher le ret de la requête avec *`.content`*"
   ]
  },
  {
   "cell_type": "code",
   "execution_count": 10,
   "metadata": {
    "ExecuteTime": {
     "end_time": "2020-04-24T15:49:10.429107Z",
     "start_time": "2020-04-24T15:49:10.420753Z"
    }
   },
   "outputs": [
    {
     "data": {
      "text/plain": [
       "b'{\"iss_position\": {\"longitude\": \"159.2184\", \"latitude\": \"-25.4911\"}, \"message\": \"success\", \"timestamp\": 1587738999}'"
      ]
     },
     "execution_count": 10,
     "metadata": {},
     "output_type": "execute_result"
    }
   ],
   "source": [
    "response.content"
   ]
  },
  {
   "cell_type": "markdown",
   "metadata": {},
   "source": [
    "Ici les données retournée sont des *`str`* mais la plus part du temps ce seront des données sous le format *JSON*"
   ]
  },
  {
   "cell_type": "markdown",
   "metadata": {},
   "source": [
    "## le format .json"
   ]
  },
  {
   "cell_type": "code",
   "execution_count": null,
   "metadata": {},
   "outputs": [],
   "source": []
  },
  {
   "cell_type": "code",
   "execution_count": null,
   "metadata": {},
   "outputs": [],
   "source": []
  },
  {
   "cell_type": "code",
   "execution_count": null,
   "metadata": {},
   "outputs": [],
   "source": []
  },
  {
   "cell_type": "code",
   "execution_count": null,
   "metadata": {},
   "outputs": [],
   "source": []
  },
  {
   "cell_type": "code",
   "execution_count": null,
   "metadata": {},
   "outputs": [],
   "source": []
  },
  {
   "cell_type": "code",
   "execution_count": null,
   "metadata": {},
   "outputs": [],
   "source": []
  },
  {
   "cell_type": "code",
   "execution_count": null,
   "metadata": {},
   "outputs": [],
   "source": []
  },
  {
   "cell_type": "code",
   "execution_count": null,
   "metadata": {},
   "outputs": [],
   "source": []
  },
  {
   "cell_type": "code",
   "execution_count": null,
   "metadata": {},
   "outputs": [],
   "source": []
  }
 ],
 "metadata": {
  "hide_input": false,
  "kernelspec": {
   "display_name": "Python 3",
   "language": "python",
   "name": "python3"
  },
  "language_info": {
   "codemirror_mode": {
    "name": "ipython",
    "version": 3
   },
   "file_extension": ".py",
   "mimetype": "text/x-python",
   "name": "python",
   "nbconvert_exporter": "python",
   "pygments_lexer": "ipython3",
   "version": "3.7.4"
  },
  "latex_envs": {
   "LaTeX_envs_menu_present": true,
   "autoclose": false,
   "autocomplete": true,
   "bibliofile": "biblio.bib",
   "cite_by": "apalike",
   "current_citInitial": 1,
   "eqLabelWithNumbers": true,
   "eqNumInitial": 1,
   "hotkeys": {
    "equation": "Ctrl-E",
    "itemize": "Ctrl-I"
   },
   "labels_anchors": false,
   "latex_user_defs": false,
   "report_style_numbering": false,
   "user_envs_cfg": false
  },
  "toc": {
   "base_numbering": 1,
   "nav_menu": {},
   "number_sections": true,
   "sideBar": true,
   "skip_h1_title": false,
   "title_cell": "Table of Contents",
   "title_sidebar": "Contents",
   "toc_cell": false,
   "toc_position": {},
   "toc_section_display": true,
   "toc_window_display": false
  }
 },
 "nbformat": 4,
 "nbformat_minor": 2
}
