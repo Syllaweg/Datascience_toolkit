{
 "cells": [
  {
   "cell_type": "markdown",
   "metadata": {},
   "source": [
    "# Régression Linéaire from scratch\n",
    "\n",
    "Nous allons recoder la régression linéaire "
   ]
  },
  {
   "cell_type": "code",
   "execution_count": null,
   "metadata": {},
   "outputs": [],
   "source": [
    " "
   ]
  },
  {
   "cell_type": "code",
   "execution_count": null,
   "metadata": {},
   "outputs": [],
   "source": []
  },
  {
   "cell_type": "code",
   "execution_count": null,
   "metadata": {},
   "outputs": [],
   "source": []
  },
  {
   "cell_type": "markdown",
   "metadata": {},
   "source": [
    "## Imports"
   ]
  },
  {
   "cell_type": "code",
   "execution_count": 14,
   "metadata": {
    "ExecuteTime": {
     "end_time": "2020-12-30T18:37:54.975590Z",
     "start_time": "2020-12-30T18:37:54.970839Z"
    }
   },
   "outputs": [],
   "source": [
    "import numpy as np \n",
    "from sklearn.datasets import make_regression #pour créer un dataset\n",
    "import matplotlib.pyplot as plt"
   ]
  },
  {
   "cell_type": "markdown",
   "metadata": {},
   "source": [
    "## Dataset\n",
    "\n",
    "- **Dataset** : *(x,y)* avec *m* (lignes) exemples, et *n* (colonne) variable"
   ]
  },
  {
   "cell_type": "code",
   "execution_count": 15,
   "metadata": {
    "ExecuteTime": {
     "end_time": "2020-12-30T18:37:59.703615Z",
     "start_time": "2020-12-30T18:37:59.697454Z"
    }
   },
   "outputs": [],
   "source": [
    "x, y = make_regression(n_samples=100, n_features=1, noise=10)\n",
    "                    # n_exemples=100, n_variable=1, ajout de bruit  "
   ]
  },
  {
   "cell_type": "code",
   "execution_count": 16,
   "metadata": {
    "ExecuteTime": {
     "end_time": "2020-12-30T18:38:00.827549Z",
     "start_time": "2020-12-30T18:38:00.585592Z"
    }
   },
   "outputs": [
    {
     "data": {
      "text/plain": [
       "Text(0, 0.5, 'axe des Y')"
      ]
     },
     "execution_count": 16,
     "metadata": {},
     "output_type": "execute_result"
    },
    {
     "data": {
      "image/png": "[encoded data removed]",
      "text/plain": [
       "<Figure size 432x288 with 1 Axes>"
      ]
     },
     "metadata": {
      "needs_background": "light"
     },
     "output_type": "display_data"
    }
   ],
   "source": [
    "plt.scatter(x, y)\n",
    "\n",
    "plt.xlabel(\"axe des X\")\n",
    "plt.ylabel(\"axe des Y\")"
   ]
  },
  {
   "cell_type": "code",
   "execution_count": null,
   "metadata": {},
   "outputs": [],
   "source": []
  },
  {
   "cell_type": "markdown",
   "metadata": {},
   "source": [
    "### Matrices\n",
    "-  Vérifier les dimensions des matrices ... toujours !"
   ]
  },
  {
   "cell_type": "code",
   "execution_count": 17,
   "metadata": {
    "ExecuteTime": {
     "end_time": "2020-12-30T18:38:25.971860Z",
     "start_time": "2020-12-30T18:38:25.965244Z"
    }
   },
   "outputs": [
    {
     "data": {
      "text/plain": [
       "((100, 1), (100,))"
      ]
     },
     "execution_count": 17,
     "metadata": {},
     "output_type": "execute_result"
    }
   ],
   "source": [
    "x.shape, y.shape\n"
   ]
  },
  {
   "cell_type": "markdown",
   "metadata": {},
   "source": [
    "- Nous allons redimensionner *y*, car parfois comme ici il n'affiche pas les dimensions lorsqu'il n'y a qu'une colonne.  "
   ]
  },
  {
   "cell_type": "code",
   "execution_count": 18,
   "metadata": {
    "ExecuteTime": {
     "end_time": "2020-12-30T18:38:27.211013Z",
     "start_time": "2020-12-30T18:38:27.203291Z"
    }
   },
   "outputs": [
    {
     "data": {
      "text/plain": [
       "((100, 1), (100, 1))"
      ]
     },
     "execution_count": 18,
     "metadata": {},
     "output_type": "execute_result"
    }
   ],
   "source": [
    "y = y.reshape(y.shape[0], 1)\n",
    "\n",
    "x.shape, y.shape"
   ]
  },
  {
   "cell_type": "markdown",
   "metadata": {},
   "source": [
    "#### Ajouter une colonne de *Biais* à notre matrice de *x*\n",
    "Ce que nous voulons obtenir : \n",
    "$$\\begin{bmatrix} x & 1 \\\\\n",
    "\\ x^{(i)} & 1\\\\\n",
    "\\vdots & \\vdots\\\\\n",
    "\\ x^{(m)} & 1\\\\\n",
    "\\end{bmatrix}$$"
   ]
  },
  {
   "cell_type": "markdown",
   "metadata": {},
   "source": [
    "- pour créer notre Matrice *X* nous allons rajouter 1 colonne de Biais à notre matrice *x*"
   ]
  },
  {
   "cell_type": "code",
   "execution_count": 19,
   "metadata": {
    "ExecuteTime": {
     "end_time": "2020-12-30T18:41:49.074288Z",
     "start_time": "2020-12-30T18:41:49.071032Z"
    }
   },
   "outputs": [],
   "source": [
    "# matrice X\n",
    "X = np.hstack((x, np.ones(x.shape)))\n",
    "    # np.hstack permet de coller 2 vecteurs côte à côte"
   ]
  },
  {
   "cell_type": "code",
   "execution_count": 20,
   "metadata": {
    "ExecuteTime": {
     "end_time": "2020-12-30T18:41:58.652435Z",
     "start_time": "2020-12-30T18:41:58.639223Z"
    }
   },
   "outputs": [
    {
     "data": {
      "text/plain": [
       "(100, 2)"
      ]
     },
     "execution_count": 20,
     "metadata": {},
     "output_type": "execute_result"
    }
   ],
   "source": [
    "X.shape"
   ]
  },
  {
   "cell_type": "markdown",
   "metadata": {},
   "source": [
    "Nous avons bien ajouté 1 colonne de Biais (1) à notre matrice X"
   ]
  },
  {
   "cell_type": "code",
   "execution_count": 32,
   "metadata": {
    "ExecuteTime": {
     "end_time": "2020-12-30T18:45:06.841696Z",
     "start_time": "2020-12-30T18:45:06.834617Z"
    }
   },
   "outputs": [
    {
     "data": {
      "text/plain": [
       "array([[-0.6426534 ,  1.        ],\n",
       "       [ 1.02600613,  1.        ],\n",
       "       [ 0.32340104,  1.        ],\n",
       "       [ 0.09453971,  1.        ],\n",
       "       [ 0.88578536,  1.        ]])"
      ]
     },
     "execution_count": 32,
     "metadata": {},
     "output_type": "execute_result"
    }
   ],
   "source": [
    "# affiche les 5 premières lignes\n",
    "X[:5, :]"
   ]
  },
  {
   "cell_type": "code",
   "execution_count": null,
   "metadata": {},
   "outputs": [],
   "source": []
  },
  {
   "cell_type": "markdown",
   "metadata": {},
   "source": [
    "### Initialisation des Paramètres \n",
    "Notre modéle de Régression est linéaire il aura donc 2 paramètres, a et b\n",
    "il seront contenue dans la matrice *theta*"
   ]
  },
  {
   "cell_type": "code",
   "execution_count": 49,
   "metadata": {
    "ExecuteTime": {
     "end_time": "2020-12-30T20:03:44.488831Z",
     "start_time": "2020-12-30T20:03:44.484688Z"
    }
   },
   "outputs": [],
   "source": [
    "# 2 élem, a et b, 2 lignes(m) et 1 colonne(n)\n",
    "param_theta = np.random.randn(2, 1)"
   ]
  },
  {
   "cell_type": "code",
   "execution_count": 36,
   "metadata": {
    "ExecuteTime": {
     "end_time": "2020-12-30T18:49:37.053306Z",
     "start_time": "2020-12-30T18:49:37.010319Z"
    }
   },
   "outputs": [
    {
     "data": {
      "text/plain": [
       "(2, 1)"
      ]
     },
     "execution_count": 36,
     "metadata": {},
     "output_type": "execute_result"
    }
   ],
   "source": [
    "param_theta.shape"
   ]
  },
  {
   "cell_type": "code",
   "execution_count": 50,
   "metadata": {
    "ExecuteTime": {
     "end_time": "2020-12-30T20:03:59.894864Z",
     "start_time": "2020-12-30T20:03:59.888315Z"
    }
   },
   "outputs": [
    {
     "data": {
      "text/plain": [
       "array([[ 0.35396518],\n",
       "       [-0.44057919]])"
      ]
     },
     "execution_count": 50,
     "metadata": {},
     "output_type": "execute_result"
    }
   ],
   "source": [
    "param_theta"
   ]
  },
  {
   "cell_type": "code",
   "execution_count": null,
   "metadata": {},
   "outputs": [],
   "source": []
  },
  {
   "cell_type": "markdown",
   "metadata": {},
   "source": [
    "## Le Modèle \n",
    "**La régréssion linéaire**"
   ]
  },
  {
   "cell_type": "markdown",
   "metadata": {},
   "source": [
    "> Notre modèle : $$f(x) = ax + b$$\n",
    "\n",
    "> Sous forme matriciel : $$F = X.\\theta$$"
   ]
  },
  {
   "cell_type": "markdown",
   "metadata": {},
   "source": [
    "- Définie notre modèle dans une fct"
   ]
  },
  {
   "cell_type": "code",
   "execution_count": 38,
   "metadata": {
    "ExecuteTime": {
     "end_time": "2020-12-30T18:52:11.878159Z",
     "start_time": "2020-12-30T18:52:11.874142Z"
    }
   },
   "outputs": [],
   "source": [
    "def model(X, param):\n",
    "    \n",
    "    return X.dot(param)"
   ]
  },
  {
   "cell_type": "markdown",
   "metadata": {},
   "source": [
    "- On peut ensuite l'appliquer à nos données "
   ]
  },
  {
   "cell_type": "code",
   "execution_count": 51,
   "metadata": {
    "ExecuteTime": {
     "end_time": "2020-12-30T20:04:06.350275Z",
     "start_time": "2020-12-30T20:04:06.096366Z"
    }
   },
   "outputs": [
    {
     "data": {
      "text/plain": [
       "Text(0, 0.5, 'axe des Y')"
      ]
     },
     "execution_count": 51,
     "metadata": {},
     "output_type": "execute_result"
    },
    {
     "data": {
      "image/png": "[encoded data removed]",
      "text/plain": [
       "<Figure size 432x288 with 1 Axes>"
      ]
     },
     "metadata": {
      "needs_background": "light"
     },
     "output_type": "display_data"
    }
   ],
   "source": [
    "# nuage de point de nos données\n",
    "plt.scatter(x, y)\n",
    "\n",
    "# Notre modèle avec des paramètres aléatoires\n",
    "plt.plot(x, model(X, param_theta))\n",
    "\n",
    "plt.xlabel(\"axe des X\")\n",
    "plt.ylabel(\"axe des Y\")"
   ]
  },
  {
   "cell_type": "code",
   "execution_count": null,
   "metadata": {},
   "outputs": [],
   "source": []
  },
  {
   "cell_type": "markdown",
   "metadata": {},
   "source": [
    "## La fonction Coût"
   ]
  },
  {
   "cell_type": "markdown",
   "metadata": {},
   "source": [
    "> Fonction coût : $$J(a,b) = \\frac{1}{2m} \\sum_{i=1}^{m} (a.x^{(i)} -y^{(i)})^2$$\n",
    "> Fonction coût sous forme matriciel : $$J(\\theta) = \\frac{1}{2m} \\sum (X.\\theta - Y)^2$$\n",
    "  \n",
    " Ou *m* (ligne) le nb d'exemple dans le dataset"
   ]
  },
  {
   "cell_type": "markdown",
   "metadata": {},
   "source": [
    "- Écrivons sous forme de code notre fonction de coût"
   ]
  },
  {
   "cell_type": "code",
   "execution_count": 54,
   "metadata": {
    "ExecuteTime": {
     "end_time": "2020-12-30T20:24:52.807654Z",
     "start_time": "2020-12-30T20:24:52.801557Z"
    }
   },
   "outputs": [],
   "source": [
    "def cost_function(X, y, param):\n",
    "    \n",
    "    m = len(y) # ici 100 exemple dans notre dataset\n",
    "    \n",
    "    return 1/(2*m) * np.sum((model(X, param) -y)**2)\n",
    "    "
   ]
  },
  {
   "cell_type": "markdown",
   "metadata": {},
   "source": [
    "- On veut que cette fct tende vers zéro ..."
   ]
  },
  {
   "cell_type": "code",
   "execution_count": 55,
   "metadata": {
    "ExecuteTime": {
     "end_time": "2020-12-30T20:24:54.312881Z",
     "start_time": "2020-12-30T20:24:54.305720Z"
    }
   },
   "outputs": [
    {
     "data": {
      "text/plain": [
       "173.32570756272838"
      ]
     },
     "execution_count": 55,
     "metadata": {},
     "output_type": "execute_result"
    }
   ],
   "source": [
    "cost_function(X, y, param_theta)"
   ]
  },
  {
   "cell_type": "markdown",
   "metadata": {},
   "source": [
    "Ce n'est pas le cas, nous allons passer au calcule des gradients et à leur descente pour réduire le coût."
   ]
  },
  {
   "cell_type": "code",
   "execution_count": null,
   "metadata": {},
   "outputs": [],
   "source": []
  },
  {
   "cell_type": "markdown",
   "metadata": {},
   "source": [
    "## Calcules des Gradients"
   ]
  },
  {
   "cell_type": "markdown",
   "metadata": {},
   "source": [
    "> Sous forme matriciel : \n",
    "$$\\frac{\\partial J(\\theta)}{\\partial \\theta} = \\frac{1}{m} X^{T}.(X.\\theta - Y)$$"
   ]
  },
  {
   "cell_type": "code",
   "execution_count": 57,
   "metadata": {
    "ExecuteTime": {
     "end_time": "2020-12-30T23:25:13.126843Z",
     "start_time": "2020-12-30T23:25:13.121214Z"
    }
   },
   "outputs": [],
   "source": [
    "def grad(X, y, param):\n",
    "    m = len(y)\n",
    "    \n",
    "    return 1/m * X.T.dot(model(X, param) - y)"
   ]
  },
  {
   "cell_type": "code",
   "execution_count": null,
   "metadata": {},
   "outputs": [],
   "source": []
  },
  {
   "cell_type": "markdown",
   "metadata": {},
   "source": [
    "## Descente de Gradient"
   ]
  },
  {
   "cell_type": "markdown",
   "metadata": {},
   "source": [
    "> Descente de Gradient sous forme matriciel$$\\theta := \\theta - \\alpha \\frac{\\partial J(\\theta)}{\\partial \\theta}$$\n",
    "\n",
    "Ou *alpha* le Learning Rate "
   ]
  },
  {
   "cell_type": "code",
   "execution_count": 96,
   "metadata": {
    "ExecuteTime": {
     "end_time": "2020-12-31T10:54:59.608392Z",
     "start_time": "2020-12-31T10:54:59.601268Z"
    }
   },
   "outputs": [],
   "source": [
    "def gradient_descent(X, y, param, learning_rate, n_iter):\n",
    "    \"\"\" Descente de gradient pour minimiser la fct coût, \n",
    "    calcule des gradients et converge vers le minimum de la fct coût avec un pas alpha.\n",
    "    \n",
    "    Paramètres:\n",
    "        X (np.array): Matrice du dataset, m exemples, n variables, 1 colonne de biais\n",
    "        y (np.array): Vecteur de notre variable à prédire\n",
    "        param (np.array): Vecteur des paramètres de notre modèle à améliorer ici\n",
    "        learning_rate (int) : Valeur multiplier par le gradient, \n",
    "                            définit la vitesse de la descente de gradient \n",
    "        n_iter (int) : Nombre d'itérations de notre calcule et descente de gradient\n",
    "        \n",
    "    retours: \n",
    "        param (np.array) : vecteur des Parammètres de notre modèle entrainer\n",
    "        cost_history (np.array) : vecteur de résultats du calcule de la fonction coût\n",
    "                            pour chaque itérations de la descente de gradient \n",
    "        \n",
    "    \"\"\"\n",
    "    # varb pour stocker les resultats de la fct coût à chaque iteration de la descente de grad\n",
    "    cost_history = np.zeros(n_iter)\n",
    "\n",
    "    for i in range(0, n_iter):\n",
    "        param = param - learning_rate * grad(X, y, param)\n",
    "        \n",
    "        # ajoute le res du calcule de la fct coût\n",
    "        cost_history[i] = cost_function(X, y, param)    \n",
    "        \n",
    "    return param, cost_history     "
   ]
  },
  {
   "cell_type": "markdown",
   "metadata": {},
   "source": [
    "Nous retournons dans cette fonction *param* qui sont les paramètres de notre modèle maintenant entrainé"
   ]
  },
  {
   "cell_type": "code",
   "execution_count": null,
   "metadata": {},
   "outputs": [],
   "source": []
  },
  {
   "cell_type": "markdown",
   "metadata": {},
   "source": [
    "## Entrainement \n",
    "Il faut maintenant, faire passer nos paramètres $\\theta$ obtenues aléatoirement avec notre modèle initial, dans notre fct Descente de Gradient pour améliorer nos prédictions et réduire la fct coût "
   ]
  },
  {
   "cell_type": "code",
   "execution_count": 114,
   "metadata": {
    "ExecuteTime": {
     "end_time": "2020-12-31T11:20:04.223431Z",
     "start_time": "2020-12-31T11:20:04.216069Z"
    }
   },
   "outputs": [],
   "source": [
    "param_theta_final, cost_history = gradient_descent(X, y, param_theta, learning_rate=0.01, n_iter=100)"
   ]
  },
  {
   "cell_type": "markdown",
   "metadata": {},
   "source": [
    "- Voici les param obtenue après notre 1er entrainement "
   ]
  },
  {
   "cell_type": "code",
   "execution_count": 115,
   "metadata": {
    "ExecuteTime": {
     "end_time": "2020-12-31T11:20:05.173428Z",
     "start_time": "2020-12-31T11:20:05.167160Z"
    }
   },
   "outputs": [
    {
     "data": {
      "text/plain": [
       "array([[10.55800638],\n",
       "       [-1.1898022 ]])"
      ]
     },
     "execution_count": 115,
     "metadata": {},
     "output_type": "execute_result"
    }
   ],
   "source": [
    "param_theta_final"
   ]
  },
  {
   "cell_type": "markdown",
   "metadata": {},
   "source": [
    "- Pour les afficher on les passe dans notre Modèle et on mets dans un vecteur *predictions* "
   ]
  },
  {
   "cell_type": "code",
   "execution_count": 116,
   "metadata": {
    "ExecuteTime": {
     "end_time": "2020-12-31T11:20:06.861804Z",
     "start_time": "2020-12-31T11:20:06.635646Z"
    },
    "scrolled": true
   },
   "outputs": [
    {
     "data": {
      "text/plain": [
       "[<matplotlib.lines.Line2D at 0x12646d220>]"
      ]
     },
     "execution_count": 116,
     "metadata": {},
     "output_type": "execute_result"
    },
    {
     "data": {
      "image/png": "[encoded data removed]",
      "text/plain": [
       "<Figure size 432x288 with 1 Axes>"
      ]
     },
     "metadata": {
      "needs_background": "light"
     },
     "output_type": "display_data"
    }
   ],
   "source": [
    "predictions = model(X, param_theta_final)\n",
    "\n",
    "plt.scatter(x, y)\n",
    "plt.plot(x, predictions, c='r')\n"
   ]
  },
  {
   "cell_type": "code",
   "execution_count": 73,
   "metadata": {
    "ExecuteTime": {
     "end_time": "2020-12-31T00:06:31.767542Z",
     "start_time": "2020-12-31T00:06:31.757869Z"
    }
   },
   "outputs": [
    {
     "data": {
      "text/plain": [
       "58.83625836900665"
      ]
     },
     "execution_count": 73,
     "metadata": {},
     "output_type": "execute_result"
    }
   ],
   "source": [
    "cost_function(X, y, param_theta_final)"
   ]
  },
  {
   "cell_type": "code",
   "execution_count": null,
   "metadata": {},
   "outputs": [],
   "source": []
  },
  {
   "cell_type": "markdown",
   "metadata": {},
   "source": [
    "### 2ème Entrainement en changeant les hyper-paramètres\n",
    "On augmente le nombre d'itérations"
   ]
  },
  {
   "cell_type": "code",
   "execution_count": 101,
   "metadata": {
    "ExecuteTime": {
     "end_time": "2020-12-31T10:55:51.728984Z",
     "start_time": "2020-12-31T10:55:51.698274Z"
    }
   },
   "outputs": [],
   "source": [
    "param_theta_final_two, cost_history_two = gradient_descent(X, y, param_theta, learning_rate=0.01, n_iter=700)"
   ]
  },
  {
   "cell_type": "markdown",
   "metadata": {},
   "source": [
    "- Voici les param obtenue après notre 1er entrainement "
   ]
  },
  {
   "cell_type": "code",
   "execution_count": 102,
   "metadata": {
    "ExecuteTime": {
     "end_time": "2020-12-31T10:55:52.744795Z",
     "start_time": "2020-12-31T10:55:52.737347Z"
    }
   },
   "outputs": [
    {
     "data": {
      "text/plain": [
       "array([[15.69270093],\n",
       "       [-1.01991358]])"
      ]
     },
     "execution_count": 102,
     "metadata": {},
     "output_type": "execute_result"
    }
   ],
   "source": [
    "param_theta_final_two"
   ]
  },
  {
   "cell_type": "markdown",
   "metadata": {},
   "source": [
    "- Pour les afficher on les passe dans notre Modèle et on mets dans un vecteur *predictions* "
   ]
  },
  {
   "cell_type": "code",
   "execution_count": 109,
   "metadata": {
    "ExecuteTime": {
     "end_time": "2020-12-31T11:18:33.636610Z",
     "start_time": "2020-12-31T11:18:33.366149Z"
    },
    "scrolled": true
   },
   "outputs": [
    {
     "data": {
      "text/plain": [
       "[<matplotlib.lines.Line2D at 0x1218bf280>]"
      ]
     },
     "execution_count": 109,
     "metadata": {},
     "output_type": "execute_result"
    },
    {
     "data": {
      "image/png": "[encoded data removed]",
      "text/plain": [
       "<Figure size 432x288 with 1 Axes>"
      ]
     },
     "metadata": {
      "needs_background": "light"
     },
     "output_type": "display_data"
    }
   ],
   "source": [
    "predictions_two = model(X, param_theta_final_two)\n",
    "\n",
    "plt.scatter(x, y)\n",
    "plt.plot(x, predictions, c='r')\n"
   ]
  },
  {
   "cell_type": "code",
   "execution_count": 110,
   "metadata": {
    "ExecuteTime": {
     "end_time": "2020-12-31T11:18:40.007756Z",
     "start_time": "2020-12-31T11:18:40.001804Z"
    }
   },
   "outputs": [
    {
     "data": {
      "text/plain": [
       "44.50715230922219"
      ]
     },
     "execution_count": 110,
     "metadata": {},
     "output_type": "execute_result"
    }
   ],
   "source": [
    "# Le coût de notre modèle (but tendre vers 0)\n",
    "cost_function(X, y, param_theta_final_two)"
   ]
  },
  {
   "cell_type": "markdown",
   "metadata": {},
   "source": [
    "- On observe que nous avons de bien meilleur résultats et que notre modèle *fit* beaucoup mieux sur nos données"
   ]
  },
  {
   "cell_type": "code",
   "execution_count": null,
   "metadata": {},
   "outputs": [],
   "source": []
  },
  {
   "cell_type": "markdown",
   "metadata": {},
   "source": [
    "## Courbe d'apprentissage\n",
    "affichons l'évolution de notre de fonction coût pour nos pramètres $\\theta$ à chaque itération de la descente de gradient"
   ]
  },
  {
   "cell_type": "code",
   "execution_count": 120,
   "metadata": {
    "ExecuteTime": {
     "end_time": "2020-12-31T11:22:29.699313Z",
     "start_time": "2020-12-31T11:22:29.445599Z"
    }
   },
   "outputs": [
    {
     "data": {
      "text/plain": [
       "[<matplotlib.lines.Line2D at 0x1218da9d0>]"
      ]
     },
     "execution_count": 120,
     "metadata": {},
     "output_type": "execute_result"
    },
    {
     "data": {
      "image/png": "[encoded data removed]",
      "text/plain": [
       "<Figure size 432x288 with 1 Axes>"
      ]
     },
     "metadata": {
      "needs_background": "light"
     },
     "output_type": "display_data"
    }
   ],
   "source": [
    "# range() le nombre d'itération réalisé\n",
    "plt.plot(range(700), cost_history_two)"
   ]
  },
  {
   "cell_type": "markdown",
   "metadata": {},
   "source": [
    "- On observe que nous aurions obtenue le même resultat avec 400 itérations"
   ]
  },
  {
   "cell_type": "code",
   "execution_count": null,
   "metadata": {},
   "outputs": [],
   "source": []
  },
  {
   "cell_type": "markdown",
   "metadata": {},
   "source": [
    "## Évaluation du modéle\n",
    "### Coefficent de détermination, $R^2$\n",
    "Méthode des *moindre carrés* qui montre, plus il est proche de 1, à quel point notre modèle rentre dans son nuage de points, donc la performance de notre modèle.  \n",
    "$$R^2 = 1 - \\frac{\\sum(y - f(x))^2}{\\sum (y - \\overline y)^2}$$  \n"
   ]
  },
  {
   "cell_type": "code",
   "execution_count": 117,
   "metadata": {
    "ExecuteTime": {
     "end_time": "2020-12-31T11:20:20.014118Z",
     "start_time": "2020-12-31T11:20:20.008399Z"
    }
   },
   "outputs": [],
   "source": [
    "def coef_determination(y, pred):\n",
    "    \n",
    "    u = ((y - pred)**2).sum()   # Moyenne de nos érreurs\n",
    "    v = ((y - y.mean())**2).sum() # Variance de nos érreurs\n",
    "    \n",
    "    return 1 - u/v"
   ]
  },
  {
   "cell_type": "code",
   "execution_count": 129,
   "metadata": {
    "ExecuteTime": {
     "end_time": "2020-12-31T11:28:33.449804Z",
     "start_time": "2020-12-31T11:28:33.443708Z"
    }
   },
   "outputs": [
    {
     "name": "stdout",
     "output_type": "stream",
     "text": [
      "Le modèle fait : 74.98055708683924 % de bonne prédictions\n"
     ]
    }
   ],
   "source": [
    "print(\"Le modèle fait :\", coef_determination(y, predictions_two) * 100, \"% de bonne prédictions\")"
   ]
  },
  {
   "cell_type": "code",
   "execution_count": null,
   "metadata": {},
   "outputs": [],
   "source": []
  },
  {
   "cell_type": "code",
   "execution_count": null,
   "metadata": {},
   "outputs": [],
   "source": []
  },
  {
   "cell_type": "code",
   "execution_count": null,
   "metadata": {},
   "outputs": [],
   "source": []
  },
  {
   "cell_type": "code",
   "execution_count": null,
   "metadata": {},
   "outputs": [],
   "source": []
  }
 ],
 "metadata": {
  "kernelspec": {
   "display_name": "Python 3",
   "language": "python",
   "name": "python3"
  },
  "language_info": {
   "codemirror_mode": {
    "name": "ipython",
    "version": 3
   },
   "file_extension": ".py",
   "mimetype": "text/x-python",
   "name": "python",
   "nbconvert_exporter": "python",
   "pygments_lexer": "ipython3",
   "version": "3.8.3rc1"
  },
  "toc": {
   "base_numbering": 1,
   "nav_menu": {},
   "number_sections": true,
   "sideBar": true,
   "skip_h1_title": false,
   "title_cell": "Table of Contents",
   "title_sidebar": "Contents",
   "toc_cell": false,
   "toc_position": {},
   "toc_section_display": true,
   "toc_window_display": false
  },
  "varInspector": {
   "cols": {
    "lenName": 16,
    "lenType": 16,
    "lenVar": 40
   },
   "kernels_config": {
    "python": {
     "delete_cmd_postfix": "",
     "delete_cmd_prefix": "del ",
     "library": "var_list.py",
     "varRefreshCmd": "print(var_dic_list())"
    },
    "r": {
     "delete_cmd_postfix": ") ",
     "delete_cmd_prefix": "rm(",
     "library": "var_list.r",
     "varRefreshCmd": "cat(var_dic_list()) "
    }
   },
   "types_to_exclude": [
    "module",
    "function",
    "builtin_function_or_method",
    "instance",
    "_Feature"
   ],
   "window_display": false
  }
 },
 "nbformat": 4,
 "nbformat_minor": 4
}
